{
 "cells": [
  {
   "cell_type": "markdown",
   "id": "16ce7fa0",
   "metadata": {},
   "source": [
    "#### for 변수 in 시퀀스자료형:\n",
    "\n",
    "    들여쓰기\n",
    "    \n",
    "- 시퀀스자료형: 집합형태로 만들어진자료형(대표적으로 리스트가 있습니다"
   ]
  },
  {
   "cell_type": "code",
   "execution_count": 1,
   "id": "c6bf21d1",
   "metadata": {},
   "outputs": [
    {
     "name": "stdout",
     "output_type": "stream",
     "text": [
      "1\n",
      "2\n",
      "3\n",
      "4\n",
      "5\n",
      "6\n",
      "7\n",
      "8\n",
      "9\n",
      "10\n"
     ]
    }
   ],
   "source": [
    "# {1, 2, 3, 4, 5, 6, 7}\n",
    "\n",
    "for a in [1,2,3,4,5,6,7,8,9,10] :\n",
    "    print(a)"
   ]
  },
  {
   "cell_type": "code",
   "execution_count": 3,
   "id": "89dad43d",
   "metadata": {},
   "outputs": [
    {
     "name": "stdout",
     "output_type": "stream",
     "text": [
      "1 2 3 4 5 6 7 8 9 10 11 12 13 14 15 16 17 18 19 20 21 22 23 24 25 26 27 28 29 30 31 32 33 34 35 36 37 38 39 40 41 42 43 44 45 46 47 48 49 50 51 52 53 54 55 56 57 58 59 60 61 62 63 64 65 66 67 68 69 70 71 72 73 74 75 76 77 78 79 80 81 82 83 84 85 86 87 88 89 90 91 92 93 94 95 96 97 98 99 100 "
     ]
    }
   ],
   "source": [
    "# range()\n",
    "for a in range(1, 101, 1) :\n",
    "    print(a, end=' ')"
   ]
  },
  {
   "cell_type": "markdown",
   "id": "81787e46",
   "metadata": {},
   "source": [
    "#### 내장함수 range()\n",
    "\n",
    "- end 미만"
   ]
  },
  {
   "cell_type": "code",
   "execution_count": 12,
   "id": "97d0fbbd",
   "metadata": {},
   "outputs": [
    {
     "name": "stdout",
     "output_type": "stream",
     "text": [
      "7의 배수의 합: 735\n"
     ]
    }
   ],
   "source": [
    "list1 = list (range(0, 10, 3))\n",
    "list1\n",
    "\n",
    "list2 = list(range(0, 10, 2))\n",
    "list2\n",
    "\n",
    "#매개값이 두개인 경우 (start, end)\n",
    "#step은 기본으로 1로 처리\n",
    "list3 = list(range(1, 10))\n",
    "list3\n",
    "\n",
    "# 매개값이 한개인 경우 (end)\n",
    "# start = 0, step = 1로 처리\n",
    "list4 = list(range(10))\n",
    "list4\n",
    "\n",
    "# 7~100까지 전수중에서 7의 배수의 합\n",
    "list5 = list(range(7, 101)) #7~100\n",
    "\n",
    "sum = 0\n",
    "for a in list5 :\n",
    "    # print(a, end=' ')\n",
    "    if a % 7 == 0 :\n",
    "        sum += a\n",
    "        \n",
    "print('7의 배수의 합:', sum)"
   ]
  },
  {
   "cell_type": "markdown",
   "id": "9763f36e",
   "metadata": {},
   "source": [
    "#### 반복문의 중첩"
   ]
  },
  {
   "cell_type": "code",
   "execution_count": 27,
   "id": "f31a08a7",
   "metadata": {},
   "outputs": [
    {
     "name": "stdout",
     "output_type": "stream",
     "text": [
      "구구단2단\n",
      "2 x 1 = 2\n",
      "2 x 2 = 4\n",
      "2 x 3 = 6\n",
      "2 x 4 = 8\n",
      "2 x 5 = 10\n",
      "2 x 6 = 12\n",
      "2 x 7 = 14\n",
      "2 x 8 = 16\n",
      "2 x 9 = 18\n",
      "--------------------------------------------------\n",
      "구구단3단\n",
      "3 x 1 = 3\n",
      "3 x 2 = 6\n",
      "3 x 3 = 9\n",
      "3 x 4 = 12\n",
      "3 x 5 = 15\n",
      "3 x 6 = 18\n",
      "3 x 7 = 21\n",
      "3 x 8 = 24\n",
      "3 x 9 = 27\n",
      "--------------------------------------------------\n",
      "구구단4단\n",
      "4 x 1 = 4\n",
      "4 x 2 = 8\n",
      "4 x 3 = 12\n",
      "4 x 4 = 16\n",
      "4 x 5 = 20\n",
      "4 x 6 = 24\n",
      "4 x 7 = 28\n",
      "4 x 8 = 32\n",
      "4 x 9 = 36\n",
      "--------------------------------------------------\n",
      "구구단5단\n",
      "5 x 1 = 5\n",
      "5 x 2 = 10\n",
      "5 x 3 = 15\n",
      "5 x 4 = 20\n",
      "5 x 5 = 25\n",
      "5 x 6 = 30\n",
      "5 x 7 = 35\n",
      "5 x 8 = 40\n",
      "5 x 9 = 45\n",
      "--------------------------------------------------\n",
      "구구단6단\n",
      "6 x 1 = 6\n",
      "6 x 2 = 12\n",
      "6 x 3 = 18\n",
      "6 x 4 = 24\n",
      "6 x 5 = 30\n",
      "6 x 6 = 36\n",
      "6 x 7 = 42\n",
      "6 x 8 = 48\n",
      "6 x 9 = 54\n",
      "--------------------------------------------------\n",
      "구구단7단\n",
      "7 x 1 = 7\n",
      "7 x 2 = 14\n",
      "7 x 3 = 21\n",
      "7 x 4 = 28\n",
      "7 x 5 = 35\n",
      "7 x 6 = 42\n",
      "7 x 7 = 49\n",
      "7 x 8 = 56\n",
      "7 x 9 = 63\n",
      "--------------------------------------------------\n",
      "구구단8단\n",
      "8 x 1 = 8\n",
      "8 x 2 = 16\n",
      "8 x 3 = 24\n",
      "8 x 4 = 32\n",
      "8 x 5 = 40\n",
      "8 x 6 = 48\n",
      "8 x 7 = 56\n",
      "8 x 8 = 64\n",
      "8 x 9 = 72\n",
      "--------------------------------------------------\n",
      "구구단9단\n",
      "9 x 1 = 9\n",
      "9 x 2 = 18\n",
      "9 x 3 = 27\n",
      "9 x 4 = 36\n",
      "9 x 5 = 45\n",
      "9 x 6 = 54\n",
      "9 x 7 = 63\n",
      "9 x 8 = 72\n",
      "9 x 9 = 81\n",
      "--------------------------------------------------\n"
     ]
    }
   ],
   "source": [
    "\n",
    "for i in range(2, 10) : #2~9\n",
    "    \n",
    "    print(f'구구단{i}단')\n",
    "    \n",
    "    for j in range(1, 10) :\n",
    "        print(f'{i} x {j} = {i*j}')\n",
    "    print('-' * 50)"
   ]
  },
  {
   "cell_type": "code",
   "execution_count": 24,
   "id": "05cde3d2",
   "metadata": {},
   "outputs": [
    {
     "name": "stdout",
     "output_type": "stream",
     "text": [
      "2 4 6 8 10 12 14 16 18 20 22 24 26 28 30 32 34 36 38 40 42 44 46 48 50 52 54 56 58 60 62 64 66 68 70 72 74 76 78 80 82 84 86 88 90 92 94 96 98 100 102 104 106 108 110 112 114 116 118 120 122 124 126 128 130 132 134 136 138 140 142 144 146 148 150 152 154 156 158 160 162 164 166 168 170 172 174 176 178 180 182 184 186 188 190 192 194 196 198 200 개수: 180\n"
     ]
    }
   ],
   "source": [
    "# 1. 1~200까지 짝수\n",
    "\n",
    "list1 = list(range(1, 201))\n",
    "\n",
    "for a in list1 :\n",
    "    # print(a, end=' ')\n",
    "    if a % 2 == 0 :\n",
    "        print(a, end=' ')\n",
    "\n",
    "# 2. 1~2345까지 13의 배수 개수\n",
    "\n",
    "list2 = list(range(1, 2346))\n",
    "count = 0\n",
    "\n",
    "for a in list2 :\n",
    "    if a % 13 == 0 :\n",
    "        count += 1\n",
    "        \n",
    "print('개수:', count)\n",
    "        \n",
    "\n",
    "# 3. 1~300까지 정수중 6의배수, 12의배수가 아닌수의 합"
   ]
  }
 ],
 "metadata": {
  "kernelspec": {
   "display_name": "Python 3 (ipykernel)",
   "language": "python",
   "name": "python3"
  },
  "language_info": {
   "codemirror_mode": {
    "name": "ipython",
    "version": 3
   },
   "file_extension": ".py",
   "mimetype": "text/x-python",
   "name": "python",
   "nbconvert_exporter": "python",
   "pygments_lexer": "ipython3",
   "version": "3.9.7"
  }
 },
 "nbformat": 4,
 "nbformat_minor": 5
}
