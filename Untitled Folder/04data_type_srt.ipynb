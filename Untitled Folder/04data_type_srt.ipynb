{
 "cells": [
  {
   "cell_type": "markdown",
   "id": "143967e8",
   "metadata": {},
   "source": [
    "#### 문자열 타입 string\n",
    "- 문자열을 표기할때는 \"\",''로 표기한다\n"
   ]
  },
  {
   "cell_type": "code",
   "execution_count": 2,
   "id": "c7f27ae5",
   "metadata": {},
   "outputs": [
    {
     "data": {
      "text/plain": [
       "\"Let's go!!!!\""
      ]
     },
     "execution_count": 2,
     "metadata": {},
     "output_type": "execute_result"
    }
   ],
   "source": [
    "s1 = \"안녕\"\n",
    "s2 = '안녕'\n",
    "\n",
    "s2\n",
    "\n",
    "# 문자열 안에서 따옴표를 사용하고 싶다면 \\' 를 사용\n",
    "s3 = 'Let\\'s go!!!!';\n",
    "s3"
   ]
  },
  {
   "cell_type": "code",
   "execution_count": 1,
   "id": "c1526a85",
   "metadata": {},
   "outputs": [
    {
     "name": "stdout",
     "output_type": "stream",
     "text": [
      "안녕~ \n",
      "내일보자!\n"
     ]
    }
   ],
   "source": [
    "s4 = '안녕~ \\n내일보자!'\n",
    "print(s4)\n",
    "\n",
    "# 탈출문자 경로를 표현할때 \\\\ 를 붙여서 표현해줌\n",
    "path = \"C:\\\\temp\\\\user\";\n",
    "path = 'C:/temp/user';"
   ]
  },
  {
   "cell_type": "code",
   "execution_count": 2,
   "id": "fa704cbe",
   "metadata": {},
   "outputs": [],
   "source": [
    "s5 = '''\n",
    "안녕하세요\n",
    "날씨가 점점 더워지네요\n",
    "'''"
   ]
  },
  {
   "cell_type": "code",
   "execution_count": 3,
   "id": "11f69e74",
   "metadata": {},
   "outputs": [
    {
     "data": {
      "text/plain": [
       "'\\n안녕하세요\\n날씨가 점점 더워지네요\\n'"
      ]
     },
     "execution_count": 3,
     "metadata": {},
     "output_type": "execute_result"
    }
   ],
   "source": [
    "s5"
   ]
  },
  {
   "cell_type": "code",
   "execution_count": 9,
   "id": "65e9178c",
   "metadata": {},
   "outputs": [
    {
     "name": "stdout",
     "output_type": "stream",
     "text": [
      "따옴표 하나로 문단처리하기 \n",
      "따옴표 하나로 문단 처리하기 \n",
      "따옴표 하나로 문단 처리하기 \n",
      "따옴표 하나로 문단 처리하기\n"
     ]
    }
   ],
   "source": [
    "# 줄따옴표를 이용해서 여러문장을 처리할 때는 라인 마지막에 \\\n",
    "s6 = '따옴표 하나로 문단처리하기 \\\n",
    "\\n따옴표 하나로 문단 처리하기 \\\n",
    "\\n따옴표 하나로 문단 처리하기 \\\n",
    "\\n따옴표 하나로 문단 처리하기'\n",
    "\n",
    "print(s6)"
   ]
  }
 ],
 "metadata": {
  "kernelspec": {
   "display_name": "Python 3 (ipykernel)",
   "language": "python",
   "name": "python3"
  },
  "language_info": {
   "codemirror_mode": {
    "name": "ipython",
    "version": 3
   },
   "file_extension": ".py",
   "mimetype": "text/x-python",
   "name": "python",
   "nbconvert_exporter": "python",
   "pygments_lexer": "ipython3",
   "version": "3.9.7"
  }
 },
 "nbformat": 4,
 "nbformat_minor": 5
}
