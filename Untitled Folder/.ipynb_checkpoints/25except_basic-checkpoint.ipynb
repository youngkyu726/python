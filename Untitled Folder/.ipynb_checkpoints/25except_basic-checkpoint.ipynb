{
 "cells": [
  {
   "cell_type": "markdown",
   "id": "2898aa44",
   "metadata": {},
   "source": [
    "#### 예외처리\n",
    "> try :\n",
    "  ~ except :"
   ]
  },
  {
   "cell_type": "code",
   "execution_count": 15,
   "id": "8aa5b91c",
   "metadata": {},
   "outputs": [
    {
     "name": "stdout",
     "output_type": "stream",
     "text": [
      "양의 정수를 입력하세요>?\n",
      "반드시 숫자로 입력하세요\n",
      "양의 정수를 입력하세요>1\n",
      "양의 정수를 입력하세요>?\n",
      "반드시 숫자로 입력하세요\n",
      "양의 정수를 입력하세요>1\n",
      "양의 정수를 입력하세요>1\n",
      "2\n"
     ]
    }
   ],
   "source": [
    "\n",
    "while True :\n",
    "    \n",
    "    try :\n",
    "        a = int( input('양의 정수를 입력하세요>') )\n",
    "        b = int( input('양의 정수를 입력하세요>') )\n",
    "        print( a + b )\n",
    "        break # 정상적으로 입력받으면 탈출\n",
    "    except :\n",
    "        print('반드시 숫자로 입력하세요')"
   ]
  },
  {
   "cell_type": "code",
   "execution_count": 30,
   "id": "67cf9a30",
   "metadata": {},
   "outputs": [
    {
     "name": "stdout",
     "output_type": "stream",
     "text": [
      "양의 정수를 입력하세요>5\n",
      "20\n",
      "인덱스 범위를 벗어났습니다\n"
     ]
    }
   ],
   "source": [
    "try :\n",
    "    a = int( input('양의 정수를 입력하세요>') )\n",
    "    \n",
    "    print(100 // a) # zeroDivision에러 가능성\n",
    "    \n",
    "    print( '홍길동'[a] ) # index에러 가능성\n",
    "    \n",
    "except ValueError : # 해당 예외만 처리함 (생략하면 모든 예외를 처리하게된다)\n",
    "    print ('반드시 숫자로 입력하세요')\n",
    "    \n",
    "except ZeroDivisionError :\n",
    "    print ('0으로 나눌 수 없습니다')\n",
    "    \n",
    "except IndexError :\n",
    "    print ('인덱스 범위를 벗어났습니다')"
   ]
  },
  {
   "cell_type": "markdown",
   "id": "a8220562",
   "metadata": {},
   "source": [
    "#### finally 문장 (예외여부와 상관없이 실행)"
   ]
  },
  {
   "cell_type": "code",
   "execution_count": 36,
   "id": "c0771f2b",
   "metadata": {},
   "outputs": [
    {
     "name": "stdout",
     "output_type": "stream",
     "text": [
      "강아지\n",
      "상관없이 출력되는 문장입니다\n",
      "--------------------\n",
      "고양이\n",
      "상관없이 출력되는 문장입니다\n",
      "--------------------\n",
      "망아지\n",
      "상관없이 출력되는 문장입니다\n",
      "--------------------\n",
      "송아지\n",
      "상관없이 출력되는 문장입니다\n",
      "--------------------\n",
      "애완동물 정보가 없습니다\n",
      "상관없이 출력되는 문장입니다\n",
      "--------------------\n"
     ]
    }
   ],
   "source": [
    "pets = ['강아지', '고양이', '망아지', '송아지']\n",
    "\n",
    "for i in range(5) :\n",
    "    try :\n",
    "        print( pets[i] )\n",
    "    except :\n",
    "        print('애완동물 정보가 없습니다')\n",
    "    finally :\n",
    "        print('상관없이 출력되는 문장입니다')\n",
    "        print('-'* 20)"
   ]
  },
  {
   "cell_type": "markdown",
   "id": "f064de94",
   "metadata": {},
   "source": [
    "#### 예외 강제로 만들기"
   ]
  },
  {
   "cell_type": "code",
   "execution_count": 38,
   "id": "ec934eb4",
   "metadata": {},
   "outputs": [],
   "source": [
    "def calc_sum(n) :\n",
    "    \n",
    "    if n <= 0 :\n",
    "        raise ValueError # 예외 만들기\n",
    "    \n",
    "    sum = 0\n",
    "    for i in range(1, n + 1) :\n",
    "        sum += i\n",
    "    \n",
    "    return sum"
   ]
  },
  {
   "cell_type": "code",
   "execution_count": 40,
   "id": "1e785c0c",
   "metadata": {},
   "outputs": [
    {
     "name": "stdout",
     "output_type": "stream",
     "text": [
      "55\n",
      "매개값은 양수로 전달하세요\n"
     ]
    }
   ],
   "source": [
    "try :\n",
    "    a = calc_sum(10)\n",
    "    print(a)\n",
    "    b = calc_sum(-10)\n",
    "    print(b)\n",
    "except :\n",
    "        print('매개값은 양수로 전달하세요') # 예외처리를 대신진행\n"
   ]
  }
 ],
 "metadata": {
  "kernelspec": {
   "display_name": "Python 3 (ipykernel)",
   "language": "python",
   "name": "python3"
  },
  "language_info": {
   "codemirror_mode": {
    "name": "ipython",
    "version": 3
   },
   "file_extension": ".py",
   "mimetype": "text/x-python",
   "name": "python",
   "nbconvert_exporter": "python",
   "pygments_lexer": "ipython3",
   "version": "3.9.7"
  }
 },
 "nbformat": 4,
 "nbformat_minor": 5
}
