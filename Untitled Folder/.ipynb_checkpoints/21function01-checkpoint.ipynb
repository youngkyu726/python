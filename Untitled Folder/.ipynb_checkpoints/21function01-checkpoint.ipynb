{
 "cells": [
  {
   "cell_type": "markdown",
   "id": "a7ced17d",
   "metadata": {},
   "source": [
    "#### 함수\n",
    "> def 이름() :\n",
    "\n",
    "1. 선언하고, 호출하는 과정이 있음.\n",
    "2. 함수의 선언이 호출구문보다 항상 위에 있어야 함."
   ]
  },
  {
   "cell_type": "code",
   "execution_count": 43,
   "id": "a542a698",
   "metadata": {},
   "outputs": [],
   "source": [
    "def cal_sum() :\n",
    "    sum = 0\n",
    "    for i in range(1, 11) :\n",
    "        sum += i\n",
    "        \n",
    "    print(sum)\n",
    "    \n",
    "\n",
    "def cal_sum2(x) :\n",
    "    sum = 0\n",
    "    for i in range(1, x + 1) :\n",
    "        sum += i\n",
    "        \n",
    "    print(sum)\n",
    "    \n",
    "def get_info(name, age) :\n",
    "    print(f'이름은 {name}이고 나이는 {age}살')\n",
    "    \n",
    "# 함수가 돌려줄 값이 있다면 return키워드에 값을 담아줌\n",
    "# 함수의 리턴값은 하나여야 함\n",
    "def add(n1, n2) :\n",
    "    result = n1 + n2\n",
    "    return result\n",
    "\n",
    "# 매개변수가 여러개 X 튜플에 실림 (이유 : 소괄호 생략가능)\n",
    "def oper (n1, n2) :\n",
    "    return n1 + n2, n1 - n2, n1 * n2, n1 // n2\n",
    "\n",
    "# return키워드는 함수의 종료를 의미함\n",
    "def say_nick(name) :\n",
    "    if name != '홍길동' :\n",
    "        print(\"홍길동을 입력하세요\")\n",
    "        return # return키워드는 함수의 종료를 의미\n",
    "        \n",
    "    print(f'당신은 {name}입니다')"
   ]
  },
  {
   "cell_type": "code",
   "execution_count": 46,
   "id": "87739138",
   "metadata": {},
   "outputs": [
    {
     "name": "stdout",
     "output_type": "stream",
     "text": [
      "55\n",
      "None\n"
     ]
    }
   ],
   "source": [
    "# cal_sum() # 재사용 가능\n",
    "# cal_sum() \n",
    "\n",
    "# cal_sum2(10)\n",
    "# cal_sum2(20)\n",
    "\n",
    "# get_info('홍길동', 20)\n",
    "\n",
    "# result = add(1, 2)\n",
    "# result\n",
    "\n",
    "# result = oper(10, 2)\n",
    "# type(result)\n",
    "\n",
    "# say_nick('이순신')\n",
    "\n",
    "print( cal_sum() ) # None (리턴이 없는 함수들은 리턴결과가 None)"
   ]
  },
  {
   "cell_type": "markdown",
   "id": "cb058799",
   "metadata": {},
   "source": [
    "#### 실습\n",
    "함수 연습  \n",
    "1. 자연수 n을 인수로 받아서 n의 약수를 더한 결과를 return하는 sum함수를 완성하면 됩니다  \n",
    "hint : 반복문으로 회전하면서 해당값의 나머지가 == 0인 경우 값 누적  \n",
    "\n",
    "\n",
    "2. 인수를 2개를 입력받아서 (start, end)  \n",
    "반복문으로 start~end누적 합을 구하는 sumNum함수를 완성하면 됩니다  \n",
    "단, 두 수의 크기는 지정되지 않았습니다  \n",
    "sumNum(1, 3) -> 6  \n",
    "sumNum(3, 1) -> 6  \n",
    "hint :  if n1 > n2 :  \n",
    "    start, end = n2, n1  \n",
    "\n",
    "\n",
    "3. 정수 n을 받아서 n의 약수를 모두 가로로 출력하고, 약수의 개수와, 약수의 합을 튜플로   \n",
    "한번에 리턴하는 함수 calc_divisor를 완성합니다  \n",
    "- 약수의 출력은 함수 내부에서 이루어 집니다  "
   ]
  },
  {
   "cell_type": "code",
   "execution_count": 47,
   "id": "eb69341b",
   "metadata": {},
   "outputs": [],
   "source": [
    "# 1\n",
    "def sum(n) :\n",
    "    sum = 0\n",
    "    for i in range(1, n+1) :\n",
    "        if n % i == 0 :\n",
    "           sum += i \n",
    "\n",
    "    return sum\n",
    "\n",
    "# 2\n",
    "def sumNum(start, end) :\n",
    "    \n",
    "    sum = 0\n",
    "    if start > end :\n",
    "        start, end = end, start\n",
    "    \n",
    "    for i in range(start, end+1) :\n",
    "        sum += i\n",
    "        \n",
    "    return sum\n",
    "\n",
    "# 3\n",
    "def calc_divisor(n) :\n",
    "    \n",
    "    count = 0\n",
    "    sum = 0\n",
    "    \n",
    "    for i in range(1, n+1) :\n",
    "        if n % i == 0 :\n",
    "            print(i, end=' ')\n",
    "            count+=1\n",
    "            sum += i\n",
    "\n",
    "    return count, sum"
   ]
  },
  {
   "cell_type": "code",
   "execution_count": 52,
   "id": "f77f7dfe",
   "metadata": {},
   "outputs": [
    {
     "name": "stdout",
     "output_type": "stream",
     "text": [
      "18\n",
      "6\n",
      "1 2 5 10 (4, 18)\n"
     ]
    }
   ],
   "source": [
    "print(sum(10))\n",
    "print(sumNum(3,1))\n",
    "print(calc_divisor(10))"
   ]
  }
 ],
 "metadata": {
  "kernelspec": {
   "display_name": "Python 3 (ipykernel)",
   "language": "python",
   "name": "python3"
  },
  "language_info": {
   "codemirror_mode": {
    "name": "ipython",
    "version": 3
   },
   "file_extension": ".py",
   "mimetype": "text/x-python",
   "name": "python",
   "nbconvert_exporter": "python",
   "pygments_lexer": "ipython3",
   "version": "3.9.7"
  }
 },
 "nbformat": 4,
 "nbformat_minor": 5
}
