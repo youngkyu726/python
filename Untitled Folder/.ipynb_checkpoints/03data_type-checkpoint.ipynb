{
 "cells": [
  {
   "cell_type": "code",
   "execution_count": 8,
   "id": "8134a691",
   "metadata": {},
   "outputs": [
    {
     "data": {
      "text/plain": [
       "'0xac00'"
      ]
     },
     "execution_count": 8,
     "metadata": {},
     "output_type": "execute_result"
    }
   ],
   "source": [
    "# 정수형 타입\n",
    "\n",
    "num = 123\n",
    "type(num)\n",
    "\n",
    "num = -123\n",
    "type(num)\n",
    "\n",
    "# 2진수 8진수 16진수 형태로 표현\n",
    "# 0b,   0o,   0x를 붙여서 표현가능\n",
    "\n",
    "a = 0b1011\n",
    "a\n",
    "\n",
    "b = 0o77\n",
    "b\n",
    "\n",
    "c= 0xAC00\n",
    "c\n",
    "\n",
    "bin(a) # 2진수 형태로 출력\n",
    "oct(b) # 8잔수 형태로 출력\n",
    "hex(c) #16진수 형태로 출력"
   ]
  },
  {
   "cell_type": "code",
   "execution_count": null,
   "id": "37297667",
   "metadata": {},
   "outputs": [],
   "source": []
  }
 ],
 "metadata": {
  "kernelspec": {
   "display_name": "Python 3 (ipykernel)",
   "language": "python",
   "name": "python3"
  },
  "language_info": {
   "codemirror_mode": {
    "name": "ipython",
    "version": 3
   },
   "file_extension": ".py",
   "mimetype": "text/x-python",
   "name": "python",
   "nbconvert_exporter": "python",
   "pygments_lexer": "ipython3",
   "version": "3.9.7"
  }
 },
 "nbformat": 4,
 "nbformat_minor": 5
}
