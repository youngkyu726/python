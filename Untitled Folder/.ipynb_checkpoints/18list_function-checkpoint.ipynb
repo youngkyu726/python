{
 "cells": [
  {
   "cell_type": "markdown",
   "id": "4bc22c12",
   "metadata": {},
   "source": [
    "#### 리스트 함수 insert, append"
   ]
  },
  {
   "cell_type": "code",
   "execution_count": 9,
   "id": "3fce0c21",
   "metadata": {},
   "outputs": [
    {
     "data": {
      "text/plain": [
       "[1, 2, 3, 4, 5, 6, 7]"
      ]
     },
     "execution_count": 9,
     "metadata": {},
     "output_type": "execute_result"
    }
   ],
   "source": [
    "list_ = [1,2,3,4,5]\n",
    "\n",
    "list_.append(6) #마지막에 추가\n",
    "list_.append(7)\n",
    "list_"
   ]
  },
  {
   "cell_type": "code",
   "execution_count": 10,
   "id": "afc85c94",
   "metadata": {},
   "outputs": [
    {
     "data": {
      "text/plain": [
       "[1, 2, 3, 10, 4, 5, 6, 7]"
      ]
     },
     "execution_count": 10,
     "metadata": {},
     "output_type": "execute_result"
    }
   ],
   "source": [
    "list_.insert(3, 10)\n",
    "list_"
   ]
  },
  {
   "cell_type": "markdown",
   "id": "9f959b6d",
   "metadata": {},
   "source": [
    "#### 리스트의 값 삭제, remove, 내장함수 del, clear"
   ]
  },
  {
   "cell_type": "code",
   "execution_count": 16,
   "id": "f7800c17",
   "metadata": {},
   "outputs": [
    {
     "data": {
      "text/plain": [
       "[34, 23, 23, 73, 347]"
      ]
     },
     "execution_count": 16,
     "metadata": {},
     "output_type": "execute_result"
    }
   ],
   "source": [
    "list1 = [34,23,65,23,73,347]\n",
    "list1\n",
    "\n",
    "list1.remove(65) # 값을 이용해서 지움\n",
    "list1"
   ]
  },
  {
   "cell_type": "code",
   "execution_count": 17,
   "id": "5d2a9b8b",
   "metadata": {},
   "outputs": [
    {
     "data": {
      "text/plain": [
       "[23, 23, 73, 347]"
      ]
     },
     "execution_count": 17,
     "metadata": {},
     "output_type": "execute_result"
    }
   ],
   "source": [
    "del list1[0] #del 지우고 싶은 인덱스\n",
    "list1"
   ]
  },
  {
   "cell_type": "code",
   "execution_count": 18,
   "id": "f3137792",
   "metadata": {},
   "outputs": [
    {
     "data": {
      "text/plain": [
       "[]"
      ]
     },
     "execution_count": 18,
     "metadata": {},
     "output_type": "execute_result"
    }
   ],
   "source": [
    "list1.clear() #리스트를 비움\n",
    "list1"
   ]
  },
  {
   "cell_type": "markdown",
   "id": "f7de9249",
   "metadata": {},
   "source": [
    "#### 리스트의 탐색과 정렬\n",
    "- index, count, sort, max, min, len\n",
    "- 공용함수 max, min, len"
   ]
  },
  {
   "cell_type": "code",
   "execution_count": 42,
   "id": "124186d2",
   "metadata": {},
   "outputs": [],
   "source": [
    "point = [65, 54, 86, 45, 100, 76, 99, 98, 65]"
   ]
  },
  {
   "cell_type": "code",
   "execution_count": 32,
   "id": "965fe6f8",
   "metadata": {
    "scrolled": false
   },
   "outputs": [
    {
     "data": {
      "text/plain": [
       "8"
      ]
     },
     "execution_count": 32,
     "metadata": {},
     "output_type": "execute_result"
    }
   ],
   "source": [
    "max(point) # 리스트의 가장 높은 값\n",
    "min(point) # 리스트의 가장 낮은 값\n",
    "len(point) # 리스트의 길이"
   ]
  },
  {
   "cell_type": "code",
   "execution_count": 43,
   "id": "47965c3b",
   "metadata": {
    "scrolled": true
   },
   "outputs": [
    {
     "name": "stdout",
     "output_type": "stream",
     "text": [
      "100이 존재하는 인덱스 : 4\n",
      "65의 개수 : 2\n"
     ]
    }
   ],
   "source": [
    "x = point.index(100)\n",
    "print('100이 존재하는 인덱스 :', x)\n",
    "\n",
    "y = point.count(65)\n",
    "print('65의 개수 :', y)"
   ]
  },
  {
   "cell_type": "code",
   "execution_count": 45,
   "id": "066e0c17",
   "metadata": {},
   "outputs": [
    {
     "data": {
      "text/plain": [
       "[100, 99, 98, 86, 76, 65, 65, 54, 45]"
      ]
     },
     "execution_count": 45,
     "metadata": {},
     "output_type": "execute_result"
    }
   ],
   "source": [
    "point.sort() #오름차순 정렬\n",
    "point\n",
    "\n",
    "point.reverse() # 로꾸꺼\n",
    "point"
   ]
  },
  {
   "cell_type": "markdown",
   "id": "f35c65c2",
   "metadata": {},
   "source": [
    "#### 실습"
   ]
  },
  {
   "cell_type": "code",
   "execution_count": 26,
   "id": "15f43d6d",
   "metadata": {},
   "outputs": [
    {
     "name": "stdout",
     "output_type": "stream",
     "text": [
      "삭제할 이름 입력>무지\n"
     ]
    },
    {
     "data": {
      "text/plain": [
       "['네오', '어피치', '라이언', '제이지']"
      ]
     },
     "execution_count": 26,
     "metadata": {},
     "output_type": "execute_result"
    }
   ],
   "source": [
    "# 사용자에게 값을 입력받아 입력받은 값이 있다면 삭제하는 프로그램 코드를 작성.\n",
    "# 반복문으로 회전해서 index번째로 삭제\n",
    "kakao = ['무지', '네오', '어피치', '라이언', '제이지']\n",
    "\n",
    "a=input('삭제할 이름 입력>')\n",
    "a\n",
    "\n",
    "for i in range(0, len(kakao) ) : #미만\n",
    "    \n",
    "    if kakao[i]  ==  a :\n",
    "        del kakao[i] # del kakao\n",
    "        break\n",
    "\n",
    "kakao\n",
    "    \n",
    "    "
   ]
  }
 ],
 "metadata": {
  "kernelspec": {
   "display_name": "Python 3 (ipykernel)",
   "language": "python",
   "name": "python3"
  },
  "language_info": {
   "codemirror_mode": {
    "name": "ipython",
    "version": 3
   },
   "file_extension": ".py",
   "mimetype": "text/x-python",
   "name": "python",
   "nbconvert_exporter": "python",
   "pygments_lexer": "ipython3",
   "version": "3.9.7"
  }
 },
 "nbformat": 4,
 "nbformat_minor": 5
}
