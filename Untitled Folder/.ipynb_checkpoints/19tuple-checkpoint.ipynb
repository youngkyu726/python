{
 "cells": [
  {
   "cell_type": "markdown",
   "id": "1a937847",
   "metadata": {},
   "source": [
    "#### 튜플\n",
    "1. 튜플은 집합이라는 의미에 리스트와 유사\n",
    "2. 값을 바꿀수 없음 (불변리스트)"
   ]
  },
  {
   "cell_type": "code",
   "execution_count": 5,
   "id": "b2e08e95",
   "metadata": {},
   "outputs": [
    {
     "name": "stdout",
     "output_type": "stream",
     "text": [
      "2 1\n"
     ]
    }
   ],
   "source": [
    "point = (1,2,3,4,5)\n",
    "type(point)\n",
    "\n",
    "point = 1,2,3,4,5 # 소괄호 생략가능\n",
    "type(point)\n",
    "\n",
    "x = 1\n",
    "y = 2\n",
    "x, y = y,x # 변수 = 튜플 (튜플의 언패킹)\n",
    "print(x, y)"
   ]
  },
  {
   "cell_type": "markdown",
   "id": "77434b68",
   "metadata": {},
   "source": [
    "#### 튜플도 인덱싱과 슬라이싱이 된다"
   ]
  },
  {
   "cell_type": "code",
   "execution_count": 8,
   "id": "6e78d662",
   "metadata": {},
   "outputs": [
    {
     "name": "stdout",
     "output_type": "stream",
     "text": [
      "(1, 2, 3, 4, 5)\n"
     ]
    },
    {
     "data": {
      "text/plain": [
       "(1, 3, 5)"
      ]
     },
     "execution_count": 8,
     "metadata": {},
     "output_type": "execute_result"
    }
   ],
   "source": [
    "print(point)\n",
    "\n",
    "point[0]\n",
    "point[1]\n",
    "\n",
    "point[:] # 슬라이싱\n",
    "point[1:]\n",
    "point[:3]\n",
    "point[::2] # 처음~끝, 2번째마다"
   ]
  },
  {
   "cell_type": "code",
   "execution_count": null,
   "id": "968c52e9",
   "metadata": {},
   "outputs": [],
   "source": [
    "# 튜플에서 불가능한 문법\n",
    "# 값을 변경하는 행위는 모두 X\n",
    "\n",
    "# point[0] = 100\n",
    "# point.append(100)\n",
    "# del point[0]"
   ]
  },
  {
   "cell_type": "markdown",
   "id": "798f6f33",
   "metadata": {},
   "source": [
    "#### max, min, len, index, count 함수들은 사용이 가능"
   ]
  },
  {
   "cell_type": "code",
   "execution_count": 11,
   "id": "3f27ae73",
   "metadata": {},
   "outputs": [
    {
     "data": {
      "text/plain": [
       "4"
      ]
     },
     "execution_count": 11,
     "metadata": {},
     "output_type": "execute_result"
    }
   ],
   "source": [
    "point.index(5) #5의 위치"
   ]
  },
  {
   "cell_type": "code",
   "execution_count": 12,
   "id": "cd0b50dc",
   "metadata": {},
   "outputs": [
    {
     "data": {
      "text/plain": [
       "5"
      ]
     },
     "execution_count": 12,
     "metadata": {},
     "output_type": "execute_result"
    }
   ],
   "source": [
    "len(point) # 튜플의길이"
   ]
  },
  {
   "cell_type": "code",
   "execution_count": 14,
   "id": "4499c44c",
   "metadata": {},
   "outputs": [
    {
     "data": {
      "text/plain": [
       "5"
      ]
     },
     "execution_count": 14,
     "metadata": {},
     "output_type": "execute_result"
    }
   ],
   "source": [
    "max(point) # 큰 값"
   ]
  },
  {
   "cell_type": "code",
   "execution_count": 15,
   "id": "986e456c",
   "metadata": {},
   "outputs": [
    {
     "data": {
      "text/plain": [
       "1"
      ]
     },
     "execution_count": 15,
     "metadata": {},
     "output_type": "execute_result"
    }
   ],
   "source": [
    "min(point) #작은 값"
   ]
  },
  {
   "cell_type": "markdown",
   "id": "6bd68150",
   "metadata": {},
   "source": [
    "#### 튜플과 리스트는 상호 형변환이 가능함\n",
    "\n",
    "1. list()\n",
    "2. tuple()"
   ]
  },
  {
   "cell_type": "code",
   "execution_count": 20,
   "id": "9694a3bf",
   "metadata": {},
   "outputs": [
    {
     "data": {
      "text/plain": [
       "[1, 2, 3, 4, 5, 6, 7, 8, 9, 10]"
      ]
     },
     "execution_count": 20,
     "metadata": {},
     "output_type": "execute_result"
    }
   ],
   "source": [
    "arr = [1,2,3,4,5,6,7,8,9,10]\n",
    "\n",
    "arr = tuple(arr) # 리스트 -> 튜플\n",
    "\n",
    "arr = list(arr) # 튜플 -> 리스트로\n",
    "arr"
   ]
  },
  {
   "cell_type": "code",
   "execution_count": 21,
   "id": "c74797cf",
   "metadata": {},
   "outputs": [
    {
     "data": {
      "text/plain": [
       "(1, 2, 3, 4, 5, 6, 7, 8, 9)"
      ]
     },
     "execution_count": 21,
     "metadata": {},
     "output_type": "execute_result"
    }
   ],
   "source": [
    "tuple(range(1,10))"
   ]
  }
 ],
 "metadata": {
  "kernelspec": {
   "display_name": "Python 3 (ipykernel)",
   "language": "python",
   "name": "python3"
  },
  "language_info": {
   "codemirror_mode": {
    "name": "ipython",
    "version": 3
   },
   "file_extension": ".py",
   "mimetype": "text/x-python",
   "name": "python",
   "nbconvert_exporter": "python",
   "pygments_lexer": "ipython3",
   "version": "3.9.7"
  }
 },
 "nbformat": 4,
 "nbformat_minor": 5
}
