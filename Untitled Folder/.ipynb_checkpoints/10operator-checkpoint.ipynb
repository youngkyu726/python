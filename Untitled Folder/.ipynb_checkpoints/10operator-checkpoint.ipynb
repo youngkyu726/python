{
 "cells": [
  {
   "cell_type": "markdown",
   "id": "69fe97b2",
   "metadata": {},
   "source": [
    "#### 연산자\n",
    "1. +, -, /(실수 몫), //(정수 몫), %"
   ]
  },
  {
   "cell_type": "code",
   "execution_count": 7,
   "id": "90b003ea",
   "metadata": {},
   "outputs": [
    {
     "name": "stdout",
     "output_type": "stream",
     "text": [
      "2.5\n",
      "2\n",
      "2\n",
      "4\n",
      "8\n",
      "243\n"
     ]
    }
   ],
   "source": [
    "print(10 / 4) # 실수 몫\n",
    "print(10 // 4) # 정수 몫\n",
    "print(10 % 4) # 나머지\n",
    "print(4 % 7) # 나머지\n",
    "\n",
    "print(2 ** 3) # 2의 3승\n",
    "print(3 ** 5) # 3의 5승"
   ]
  },
  {
   "cell_type": "markdown",
   "id": "86e4262a",
   "metadata": {},
   "source": [
    "#### 복합대입 연산자 +=, -=, /=, //="
   ]
  },
  {
   "cell_type": "code",
   "execution_count": 15,
   "id": "bc37c5d0",
   "metadata": {},
   "outputs": [
    {
     "data": {
      "text/plain": [
       "1"
      ]
     },
     "execution_count": 15,
     "metadata": {},
     "output_type": "execute_result"
    }
   ],
   "source": [
    "a = 5\n",
    "b = 3\n",
    "\n",
    "# a = a + 3\n",
    "a += 3 \n",
    "a\n",
    "\n",
    "# a = a // 2\n",
    "a //= 2 \n",
    "a\n",
    "\n",
    "# a= a % 3\n",
    "a %= 3\n",
    "a\n",
    "\n",
    "# a= a ** 2\n",
    "a **= 2\n",
    "a"
   ]
  },
  {
   "cell_type": "code",
   "execution_count": 17,
   "id": "9456d9bf",
   "metadata": {},
   "outputs": [
    {
     "data": {
      "text/plain": [
       "2"
      ]
     },
     "execution_count": 17,
     "metadata": {},
     "output_type": "execute_result"
    }
   ],
   "source": [
    "a = 1\n",
    "a += 1    # a++ (파이썬은 이런 문법 없음)\n",
    "a"
   ]
  },
  {
   "cell_type": "markdown",
   "id": "16eaa2fb",
   "metadata": {},
   "source": [
    "#### 논리연산자 \n",
    "- &, |, and, or, not"
   ]
  },
  {
   "cell_type": "code",
   "execution_count": 23,
   "id": "4f9922b3",
   "metadata": {},
   "outputs": [
    {
     "name": "stdout",
     "output_type": "stream",
     "text": [
      "True\n",
      "True\n",
      "True\n",
      "True\n",
      "True\n"
     ]
    }
   ],
   "source": [
    "print(True & True)\n",
    "print(True and True)\n",
    "print(True | False)\n",
    "print(True or False)\n",
    "print(not False) # 부정\n"
   ]
  },
  {
   "cell_type": "code",
   "execution_count": 36,
   "id": "6ca7e457",
   "metadata": {},
   "outputs": [
    {
     "name": "stdout",
     "output_type": "stream",
     "text": [
      "a는 1보다 크고 10보다 작습니다\n",
      "b는 2또는 10 입니다\n",
      "b는 10 미만입니다\n"
     ]
    }
   ],
   "source": [
    "a = 5\n",
    "\n",
    "if a > 1 and a < 10 :\n",
    "    print('a는 1보다 크고 10보다 작습니다')\n",
    "    \n",
    "\n",
    "b = 10\n",
    "if b == 2 | b == 10 :\n",
    "    print('b는 2또는 10 입니다')\n",
    "    \n",
    "    \n",
    "# not은 부정의 의미 T -> F, F -> T\n",
    "if not b < 10 :\n",
    "    print( 'b는 10 미만입니다')"
   ]
  },
  {
   "cell_type": "code",
   "execution_count": 43,
   "id": "2f6e0645",
   "metadata": {},
   "outputs": [
    {
     "name": "stdout",
     "output_type": "stream",
     "text": [
      "통과\n"
     ]
    }
   ],
   "source": [
    "# 단축평가 연산\n",
    "# 논리 연산 중 좌항에서 전체결과가 나오는 경우, 우측을 진행하지 않는 연산자\n",
    "# or, and\n",
    "c = 0\n",
    "# print(c / 0)\n",
    "\n",
    "if c == 0 or c / 0 == 0 :\n",
    "    print(\"통과\")"
   ]
  }
 ],
 "metadata": {
  "kernelspec": {
   "display_name": "Python 3 (ipykernel)",
   "language": "python",
   "name": "python3"
  },
  "language_info": {
   "codemirror_mode": {
    "name": "ipython",
    "version": 3
   },
   "file_extension": ".py",
   "mimetype": "text/x-python",
   "name": "python",
   "nbconvert_exporter": "python",
   "pygments_lexer": "ipython3",
   "version": "3.9.7"
  }
 },
 "nbformat": 4,
 "nbformat_minor": 5
}
