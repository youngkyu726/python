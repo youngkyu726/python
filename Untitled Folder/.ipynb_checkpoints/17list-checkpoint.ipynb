{
 "cells": [
  {
   "cell_type": "markdown",
   "id": "6185fb84",
   "metadata": {},
   "source": [
    "#### list\n",
    "1. 리스트는 나열된 자료를 저장하는 자료형 입니다.\n",
    "2. 다른언어의 배열과 유사한 개념 입니다."
   ]
  },
  {
   "cell_type": "code",
   "execution_count": 9,
   "id": "69dcabba",
   "metadata": {},
   "outputs": [
    {
     "data": {
      "text/plain": [
       "[1, 3, 5, 7, 9]"
      ]
     },
     "execution_count": 9,
     "metadata": {},
     "output_type": "execute_result"
    }
   ],
   "source": [
    "list1 = [1,2,3,4,5,6,7,8,9,10,'가']\n",
    "list1\n",
    "\n",
    "list2 = list( range(1, 50) )\n",
    "list2\n",
    "\n",
    "list3 = list(range(1, 10, 2) )\n",
    "list3"
   ]
  },
  {
   "cell_type": "markdown",
   "id": "78061fb6",
   "metadata": {},
   "source": [
    "#### 리스트 인덱싱, 슬라이싱"
   ]
  },
  {
   "cell_type": "code",
   "execution_count": 14,
   "id": "4ce591ee",
   "metadata": {},
   "outputs": [
    {
     "name": "stdout",
     "output_type": "stream",
     "text": [
      "[1, 2, 3, 4, 5, 6, 7, 8, 9]\n"
     ]
    },
    {
     "data": {
      "text/plain": [
       "3"
      ]
     },
     "execution_count": 14,
     "metadata": {},
     "output_type": "execute_result"
    }
   ],
   "source": [
    "list_ = list(range(1, 10))\n",
    "print(list_)\n",
    "\n",
    "list_[0]\n",
    "list_[len(list_) -1 ] #list_[8]\n",
    "list_[2]"
   ]
  },
  {
   "cell_type": "code",
   "execution_count": 18,
   "id": "62dcb69b",
   "metadata": {},
   "outputs": [
    {
     "data": {
      "text/plain": [
       "[6, 7, 8, 9]"
      ]
     },
     "execution_count": 18,
     "metadata": {},
     "output_type": "execute_result"
    }
   ],
   "source": [
    "list_[ : ]\n",
    "list_[0:5]\n",
    "list_[::2] # 0~끝번째 2번째 마다 슬라이싱\n",
    "list_[5:]"
   ]
  },
  {
   "cell_type": "code",
   "execution_count": 21,
   "id": "03c553b9",
   "metadata": {},
   "outputs": [
    {
     "data": {
      "text/plain": [
       "[10, 20, 3, 4, 5, 6, 7, 8, 9]"
      ]
     },
     "execution_count": 21,
     "metadata": {},
     "output_type": "execute_result"
    }
   ],
   "source": [
    "# 리스트의 값 변경 (인덱싱을 사용)\n",
    "list_[0] = 10\n",
    "list_[1] = 20\n",
    "list_"
   ]
  },
  {
   "cell_type": "markdown",
   "id": "a8533f9f",
   "metadata": {},
   "source": [
    "#### 리스트의 연산 +, *"
   ]
  },
  {
   "cell_type": "code",
   "execution_count": 24,
   "id": "5b298347",
   "metadata": {},
   "outputs": [
    {
     "data": {
      "text/plain": [
       "[1, 2, 3, 4, 5, 1, 2, 3, 4, 5, 1, 2, 3, 4, 5]"
      ]
     },
     "execution_count": 24,
     "metadata": {},
     "output_type": "execute_result"
    }
   ],
   "source": [
    "list1 = [1,2,3,4,5]\n",
    "list2 = [6,7,8]\n",
    "\n",
    "list1 + list2\n",
    "list1 * 3"
   ]
  },
  {
   "cell_type": "markdown",
   "id": "2b235967",
   "metadata": {},
   "source": [
    "#### 변수에 리스트 값을 한번에 저장하기"
   ]
  },
  {
   "cell_type": "code",
   "execution_count": 27,
   "id": "3528967a",
   "metadata": {},
   "outputs": [
    {
     "name": "stdout",
     "output_type": "stream",
     "text": [
      "1 2 3 4 5\n"
     ]
    }
   ],
   "source": [
    "# 좌항의 변수와 우항의 리스트 요소가 같으면 한번에 저장할 수 있습니다\n",
    "a,b,c,d,e = list1\n",
    "\n",
    "print(a,b,c,d,e)"
   ]
  },
  {
   "cell_type": "markdown",
   "id": "058a079a",
   "metadata": {},
   "source": [
    "#### 다차원리스트"
   ]
  },
  {
   "cell_type": "code",
   "execution_count": 41,
   "id": "e1f71d60",
   "metadata": {},
   "outputs": [
    {
     "data": {
      "text/plain": [
       "'소고'"
      ]
     },
     "execution_count": 41,
     "metadata": {},
     "output_type": "execute_result"
    }
   ],
   "source": [
    "list_ = [[1,2,3], [4,5,6], [10,20,30,40,50]]\n",
    "\n",
    "list_[0]\n",
    "list_[1]\n",
    "list_[2]\n",
    "\n",
    "list_[0][0] # 1\n",
    "list_[0][2] # 3\n",
    "list_[0][:2]\n",
    "\n",
    "list_[2][::2] # 10, 30, 50\n",
    "\n",
    "list2 = ['소고기', '짜장면', '탕수육', '짬뽕']\n",
    "list2[0][0]\n",
    "list2[0][1]\n",
    "list2[0][:2]\n"
   ]
  }
 ],
 "metadata": {
  "kernelspec": {
   "display_name": "Python 3 (ipykernel)",
   "language": "python",
   "name": "python3"
  },
  "language_info": {
   "codemirror_mode": {
    "name": "ipython",
    "version": 3
   },
   "file_extension": ".py",
   "mimetype": "text/x-python",
   "name": "python",
   "nbconvert_exporter": "python",
   "pygments_lexer": "ipython3",
   "version": "3.9.7"
  }
 },
 "nbformat": 4,
 "nbformat_minor": 5
}
