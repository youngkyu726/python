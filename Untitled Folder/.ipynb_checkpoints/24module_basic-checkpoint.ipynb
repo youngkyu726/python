{
 "cells": [
  {
   "cell_type": "markdown",
   "id": "a844c0f6",
   "metadata": {},
   "source": [
    "#### 모듈\n",
    "- 파이썬 안에 미리 만들어진 스크립트 파일들\n",
    "- 모듈안에는 변수, 함수, 클래스 등이 있다\n",
    "- 파이썬 공식문서에서 document를 참조하면 모듈의 종류를 볼 수 있다.\n",
    "- tap으로 확인 후, shift+tab 상세확인"
   ]
  },
  {
   "cell_type": "code",
   "execution_count": 23,
   "id": "81315875",
   "metadata": {},
   "outputs": [],
   "source": [
    "import math\n",
    "import statistics as st\n",
    "from math import pi, sqrt, ceil, log10 # math 모듈에서 나열된 기능을 가져온다"
   ]
  },
  {
   "cell_type": "code",
   "execution_count": 14,
   "id": "d41da57a",
   "metadata": {},
   "outputs": [
    {
     "data": {
      "text/plain": [
       "1.0"
      ]
     },
     "execution_count": 14,
     "metadata": {},
     "output_type": "execute_result"
    }
   ],
   "source": [
    "math.pi\n",
    "math.sqrt(9)\n",
    "math.ceil(5.2)\n",
    "math.log10(10)"
   ]
  },
  {
   "cell_type": "code",
   "execution_count": 20,
   "id": "751912aa",
   "metadata": {},
   "outputs": [
    {
     "data": {
      "text/plain": [
       "1.0810874155219827"
      ]
     },
     "execution_count": 20,
     "metadata": {},
     "output_type": "execute_result"
    }
   ],
   "source": [
    "st.mean([1,2,3,4,5,6]) #중간\n",
    "st.median([1,3,4,5]) #중위 값\n",
    "st.variance([2.75, 1.75, 1.25, 0.25, 0.5, 1.25, 3.5]) #분산 (평균으로 부터 얼마나 떨어져있는가)\n",
    "st.stdev([1.5, 2.5, 2.5, 2.75, 3.25, 4.75]) #표준편차"
   ]
  },
  {
   "cell_type": "code",
   "execution_count": 29,
   "id": "82a185ac",
   "metadata": {},
   "outputs": [
    {
     "data": {
      "text/plain": [
       "3.0"
      ]
     },
     "execution_count": 29,
     "metadata": {},
     "output_type": "execute_result"
    }
   ],
   "source": [
    "# from math import ~~~, ~~~, ...\n",
    "pi\n",
    "sqrt(3)\n",
    "ceil(3.14)\n",
    "log10(1000)"
   ]
  },
  {
   "cell_type": "code",
   "execution_count": 43,
   "id": "d1b2efcb",
   "metadata": {},
   "outputs": [
    {
     "name": "stdout",
     "output_type": "stream",
     "text": [
      "프로그램에 걸린시간 0.6398341655731201\n",
      "피카츄가 양파를 까면서 하는 말은?\n",
      "언제언제 까지나~\n"
     ]
    }
   ],
   "source": [
    "# 시간 관련 기능 1\n",
    "# 1970년 1월 1일 00시 기준 ~ 지금까지 경과한 시간을 초단위로 반환\n",
    "import time as t\n",
    "start = t.time()\n",
    "\n",
    "sum = 0\n",
    "for i in range(1, 5000000) :\n",
    "    sum += i\n",
    "\n",
    "end = t.time()\n",
    "\n",
    "print(f'프로그램에 걸린시간 {end - start}')\n",
    "\n",
    "print('피카츄가 양파를 까면서 하는 말은?')\n",
    "t.sleep(10) # 10초 중단\n",
    "print('언제언제 까지나~')"
   ]
  },
  {
   "cell_type": "code",
   "execution_count": 46,
   "id": "09332c43",
   "metadata": {},
   "outputs": [
    {
     "name": "stdout",
     "output_type": "stream",
     "text": [
      "2022년 5월 3일 0시 33분 6초\n"
     ]
    }
   ],
   "source": [
    "# 운영체제의 시간을 확인하는 모듈 datetime\n",
    "import datetime as d\n",
    "x = d.datetime.today()\n",
    "\n",
    "print(f'{x.year}년 {x.month}월 {x.day}일 {x.hour}시 {x.minute}분 {x.second}초')"
   ]
  },
  {
   "cell_type": "markdown",
   "id": "8d8990d5",
   "metadata": {},
   "source": [
    "#### 사용자 정의모듈 확인\n",
    "- 주피터노트북에선 py확장자 파일로 사용자 모듈을 직접 만들고 테스트코드를 작성후에 사용한다"
   ]
  },
  {
   "cell_type": "code",
   "execution_count": 8,
   "id": "0bbc195f",
   "metadata": {},
   "outputs": [
    {
     "name": "stdout",
     "output_type": "stream",
     "text": [
      "모듈 임포트 연습시간\n"
     ]
    },
    {
     "data": {
      "text/plain": [
       "2.5"
      ]
     },
     "execution_count": 8,
     "metadata": {},
     "output_type": "execute_result"
    }
   ],
   "source": [
    "import calculator as c\n",
    "c\n",
    "c.add(1, 2)\n",
    "c.calc_sum(10)\n",
    "c.info()\n",
    "c.PI\n",
    "c.inch"
   ]
  }
 ],
 "metadata": {
  "kernelspec": {
   "display_name": "Python 3 (ipykernel)",
   "language": "python",
   "name": "python3"
  },
  "language_info": {
   "codemirror_mode": {
    "name": "ipython",
    "version": 3
   },
   "file_extension": ".py",
   "mimetype": "text/x-python",
   "name": "python",
   "nbconvert_exporter": "python",
   "pygments_lexer": "ipython3",
   "version": "3.9.7"
  }
 },
 "nbformat": 4,
 "nbformat_minor": 5
}
