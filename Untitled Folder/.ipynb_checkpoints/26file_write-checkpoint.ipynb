{
 "cells": [
  {
   "cell_type": "markdown",
   "id": "50678ccb",
   "metadata": {},
   "source": [
    "#### 파일 출력"
   ]
  },
  {
   "cell_type": "code",
   "execution_count": 2,
   "id": "04f68427",
   "metadata": {},
   "outputs": [],
   "source": [
    "path = 'dataset/test.txt'\n",
    "\n",
    "f = open(path, mode='w', encoding='utf-8-sig') # utf8, CP949(EUC-KR)\n",
    "f.write('w모드는 글을 씀')\n",
    "f.close()"
   ]
  },
  {
   "cell_type": "code",
   "execution_count": 12,
   "id": "624a3275",
   "metadata": {},
   "outputs": [],
   "source": [
    "try :\n",
    "    f = open(path, mode='a', encoding='utf-8-sig')\n",
    "    f.write('\\na모드는 글을 추가함') # \\n 줄바꿈 \\r 캐리지리턴\n",
    "\n",
    "except :\n",
    "    print('파일 저장 실패!!')\n",
    "finally :\n",
    "    f.close()"
   ]
  },
  {
   "cell_type": "markdown",
   "id": "0dfc53e2",
   "metadata": {},
   "source": [
    "#### 파일 입력\n",
    "1. read() - 통째로 읽는다\n",
    "2. readline() - 한줄씩 읽는다\n",
    "3. readlines() - 한줄씩 읽어서 리스트로 반환"
   ]
  },
  {
   "cell_type": "code",
   "execution_count": 24,
   "id": "eb427e96",
   "metadata": {},
   "outputs": [
    {
     "name": "stdout",
     "output_type": "stream",
     "text": [
      "w모드는 글을 씀a모드는 글을 추가함\n",
      "\n",
      "a모드는 글을 추가함\n",
      "\n",
      "\n",
      "\n",
      "a모드는 글을 추가함\n"
     ]
    }
   ],
   "source": [
    "try :\n",
    "    f = open(path, mode='r', encoding='utf-8-sig')\n",
    "    \n",
    "    \n",
    "    #1. a = f.read()\n",
    "    \n",
    "    \n",
    "    '''\n",
    "    print( len( f.readline() ) )\n",
    "    print( len( f.readline() ) )\n",
    "    print( len( f.readline() ) )\n",
    "    print( len( f.readline() ) )\n",
    "    print( len( f.readline() ) )\n",
    "    '''\n",
    "    \n",
    "    ''' # 2.\n",
    "    while True : \n",
    "        a = f.readline()\n",
    "        if len(a) == 0 : # 더 이상 읽을게 없다는 의미\n",
    "            break\n",
    "        print(a)\n",
    "    '''\n",
    "    \n",
    "    # 3.\n",
    "    a = f.readlines()\n",
    "    \n",
    "    for i in a :\n",
    "        print(i)\n",
    "    \n",
    "except :\n",
    "    print('파일 읽기 실패')\n",
    "finally :\n",
    "    f.close()"
   ]
  }
 ],
 "metadata": {
  "kernelspec": {
   "display_name": "Python 3 (ipykernel)",
   "language": "python",
   "name": "python3"
  },
  "language_info": {
   "codemirror_mode": {
    "name": "ipython",
    "version": 3
   },
   "file_extension": ".py",
   "mimetype": "text/x-python",
   "name": "python",
   "nbconvert_exporter": "python",
   "pygments_lexer": "ipython3",
   "version": "3.9.7"
  }
 },
 "nbformat": 4,
 "nbformat_minor": 5
}
