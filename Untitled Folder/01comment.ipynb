{
 "cells": [
  {
   "cell_type": "markdown",
   "id": "8b4937c6",
   "metadata": {},
   "source": [
    "# 파이썬 단축키\n",
    "## 파이썬 단축키\n",
    "### 파이썬 단축키\n",
    "#### 파이썬 단축키\n",
    "\n",
    "- 마크다운 문법\n",
    "- 마크다운 문법\n",
    "\n",
    "1. a - 이전에 셀 삽입\n",
    "2. b - 다음에 셀 삽입\n",
    "3. dd - 셀 삭제\n",
    "4. ctrl + enter - 실행\n",
    "5. shift + enter - 실행(다음으로)\n",
    "\n",
    "> 예시\n",
    "<div style='color: red'> html문법도가능하다 </div>"
   ]
  },
  {
   "cell_type": "code",
   "execution_count": 31,
   "id": "5de2340a",
   "metadata": {},
   "outputs": [
    {
     "name": "stdout",
     "output_type": "stream",
     "text": [
      "1\n",
      "3\n",
      "문자 입니다\n"
     ]
    }
   ],
   "source": [
    "#한줄 주석\n",
    "# ctrl + /\n",
    "'''\n",
    "여러줄 주석으로 사용\n",
    "hello world..\n",
    "'''\n",
    "\n",
    "# print('안녕하세요')\n",
    "1\n",
    "10\n",
    "100\n",
    "\n",
    "print(1)\n",
    "print(1 + 2)\n",
    "print(\"문자 입니다\")\n",
    "#     print('문자 입니다')\n",
    "# tab버튼으로 자동완성"
   ]
  }
 ],
 "metadata": {
  "kernelspec": {
   "display_name": "Python 3 (ipykernel)",
   "language": "python",
   "name": "python3"
  },
  "language_info": {
   "codemirror_mode": {
    "name": "ipython",
    "version": 3
   },
   "file_extension": ".py",
   "mimetype": "text/x-python",
   "name": "python",
   "nbconvert_exporter": "python",
   "pygments_lexer": "ipython3",
   "version": "3.9.7"
  }
 },
 "nbformat": 4,
 "nbformat_minor": 5
}
