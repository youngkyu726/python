{
 "cells": [
  {
   "cell_type": "markdown",
   "id": "d4397cb3",
   "metadata": {},
   "source": [
    "#### format()함수로 출력\n",
    "- 서식문자\n",
    "1. %s (:s) 문자열을 출력\n",
    "2. %f (:f) 실수를 출력\n",
    "3. %d (:d) 정수를 출력\n",
    "4. %% - % 특수문자를 출력"
   ]
  },
  {
   "cell_type": "code",
   "execution_count": 5,
   "id": "187d9b5c",
   "metadata": {},
   "outputs": [
    {
     "name": "stdout",
     "output_type": "stream",
     "text": [
      "사과가 3개 있습니다\n",
      "사과가 3개 있습니다\n"
     ]
    }
   ],
   "source": [
    "apple = 3\n",
    "print('사과가 ', apple, '개 있습니다', sep='')\n",
    "print('사과가 {}개 있습니다' .format(apple))"
   ]
  },
  {
   "cell_type": "code",
   "execution_count": 10,
   "id": "39600dc4",
   "metadata": {},
   "outputs": [
    {
     "name": "stdout",
     "output_type": "stream",
     "text": [
      "오늘은 4월 26일 화요일 입니다\n",
      "오늘은 4월 26일 화요일 입니다\n"
     ]
    }
   ],
   "source": [
    "month = 4\n",
    "day = 26\n",
    "ani = '화'\n",
    "\n",
    "print('오늘은 {}월 {}일 {}요일 입니다' .format(month, day, ani))\n",
    "# 순서를 지정할 수 있음 (0이 첫번째)\n",
    "print('오늘은 {1}월 {2}일 {0}요일 입니다' .format(ani, month, day))"
   ]
  },
  {
   "cell_type": "code",
   "execution_count": 27,
   "id": "51e27fd5",
   "metadata": {},
   "outputs": [
    {
     "name": "stdout",
     "output_type": "stream",
     "text": [
      "원주율의 값은 3.141592입니다\n",
      "원주율의 값은 3.141592입니다\n",
      "원주율의 값은 3.14입니다\n",
      "원주율의 값은   3.141592입니다\n",
      "원주율의 값은 3.141592  입니다\n",
      "원주율의 값은       3.14입니다\n",
      "나는 안녕! 이라고 말했다\n",
      "나는                  안녕! 이라고 말했다\n"
     ]
    }
   ],
   "source": [
    "# 서식문자를 이용해서 출력형식을 지정하는 방법\n",
    "pi = 3.141592\n",
    "print('원주율의 값은 {}입니다' .format(pi) )\n",
    "print('원주율의 값은 {:f}입니다' .format(pi) )\n",
    "print('원주율의 값은 {:.2f}입니다' .format(pi) ) # 소수부 2자리까지 출력\n",
    "print('원주율의 값은 {:10f}입니다' .format(pi) ) # 10칸 잡고 오른쪽에서부터 출력\n",
    "print('원주율의 값은 {:<10f}입니다' .format(pi) ) # 10칸 잡고 왼쪽에서부터 출력\n",
    "print('원주율의 값은 {:10.2f}입니다' .format(pi) ) # 10칸 잡고 소수점 2자리까지 출력\n",
    "\n",
    "s = '안녕!'\n",
    "print('나는 {:s} 이라고 말했다'. format(s))\n",
    "print('나는 {:>20s} 이라고 말했다'. format(s))"
   ]
  },
  {
   "cell_type": "code",
   "execution_count": 32,
   "id": "8595e715",
   "metadata": {},
   "outputs": [
    {
     "name": "stdout",
     "output_type": "stream",
     "text": [
      "안녕은 영어로 hi \n",
      "안녕은 영어로 hi \n",
      "안녕은 영어로 hi, 원주율은 ? 3.14, 진실은 영어로 True\n"
     ]
    }
   ],
   "source": [
    "# f 포맷 방법\n",
    "\n",
    "hi = 'hi'\n",
    "pi = 3.14\n",
    "bool_ = True\n",
    "\n",
    "print(f'안녕은 영어로 {\"hi\"} ')\n",
    "print(f'안녕은 영어로 {hi} ')\n",
    "print(f'안녕은 영어로 {hi}, 원주율은 ? {pi}, 진실은 영어로 {bool_}')"
   ]
  }
 ],
 "metadata": {
  "kernelspec": {
   "display_name": "Python 3 (ipykernel)",
   "language": "python",
   "name": "python3"
  },
  "language_info": {
   "codemirror_mode": {
    "name": "ipython",
    "version": 3
   },
   "file_extension": ".py",
   "mimetype": "text/x-python",
   "name": "python",
   "nbconvert_exporter": "python",
   "pygments_lexer": "ipython3",
   "version": "3.9.7"
  }
 },
 "nbformat": 4,
 "nbformat_minor": 5
}
