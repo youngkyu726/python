{
 "cells": [
  {
   "cell_type": "markdown",
   "id": "7d340a7d",
   "metadata": {},
   "source": [
    "#### 표준 입력함수 input()\n",
    "- input()의 결과는 항상 문자열"
   ]
  },
  {
   "cell_type": "code",
   "execution_count": 4,
   "id": "f99a8c01",
   "metadata": {},
   "outputs": [
    {
     "name": "stdout",
     "output_type": "stream",
     "text": [
      "너의 별명은 무엇이니? : 꿀꿀이\n",
      "입력된 별명은 : 꿀꿀이\n",
      "<class 'str'>\n"
     ]
    }
   ],
   "source": [
    "nick = input('너의 별명을 적으렴 : ')\n",
    "\n",
    "print('입력된 별명은 : ' + nick)\n",
    "print(type(nick))"
   ]
  },
  {
   "cell_type": "code",
   "execution_count": 10,
   "id": "fe8a9d48",
   "metadata": {},
   "outputs": [
    {
     "name": "stdout",
     "output_type": "stream",
     "text": [
      "두 수를 입력하세요 >\n",
      "첫번째 수 : 1\n",
      "두번째 수 : 2\n",
      "3\n"
     ]
    }
   ],
   "source": [
    "# 정수형으로 값을 받는 방법\n",
    "print('두 수를 입력하세요 >')\n",
    "n1 = int( input('첫번째 수 : ') )\n",
    "n2 = int( input('두번째 수 : ') )\n",
    "\n",
    "print(n1 + n2 )"
   ]
  }
 ],
 "metadata": {
  "kernelspec": {
   "display_name": "Python 3 (ipykernel)",
   "language": "python",
   "name": "python3"
  },
  "language_info": {
   "codemirror_mode": {
    "name": "ipython",
    "version": 3
   },
   "file_extension": ".py",
   "mimetype": "text/x-python",
   "name": "python",
   "nbconvert_exporter": "python",
   "pygments_lexer": "ipython3",
   "version": "3.9.7"
  }
 },
 "nbformat": 4,
 "nbformat_minor": 5
}
