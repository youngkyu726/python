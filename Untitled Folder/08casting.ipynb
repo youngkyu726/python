{
 "cells": [
  {
   "cell_type": "markdown",
   "id": "5affbebc",
   "metadata": {},
   "source": [
    "#### 형변환 (tpye casting)\n",
    "1. str()\n",
    "2. int()\n",
    "3. float()\n",
    "4. bool()\n",
    "- 단, 변환할 수 없는 값이라면 에러가 발생"
   ]
  },
  {
   "cell_type": "code",
   "execution_count": 8,
   "id": "d2159eb7",
   "metadata": {},
   "outputs": [
    {
     "name": "stdout",
     "output_type": "stream",
     "text": [
      "홍길동의 점수 : 90점 입니다\n"
     ]
    }
   ],
   "source": [
    "name = '홍길동'\n",
    "score = 90\n",
    "\n",
    "type(name)\n",
    "type(score)\n",
    "\n",
    "# name + str(score)\n",
    "print(name + '의 점수 : ' + str(score) + '점 입니다')"
   ]
  },
  {
   "cell_type": "code",
   "execution_count": 10,
   "id": "6d3388fa",
   "metadata": {},
   "outputs": [
    {
     "name": "stdout",
     "output_type": "stream",
     "text": [
      "44\n"
     ]
    }
   ],
   "source": [
    "n1 = 10\n",
    "n2 = \"34\"\n",
    "\n",
    "print(n1+ int(n2) ) # 정수 덧셈"
   ]
  },
  {
   "cell_type": "code",
   "execution_count": 12,
   "id": "0f4bebd2",
   "metadata": {},
   "outputs": [
    {
     "name": "stdout",
     "output_type": "stream",
     "text": [
      "44\n"
     ]
    }
   ],
   "source": [
    "# 타입변환 함수는 일시적으로 값을 변경해줄 뿐 , 실제 값은 변경하지 않습니다.\n",
    "n2 = int(n2)\n",
    "\n",
    "print(n1 + n2)"
   ]
  },
  {
   "cell_type": "code",
   "execution_count": 15,
   "id": "82494406",
   "metadata": {},
   "outputs": [
    {
     "name": "stdout",
     "output_type": "stream",
     "text": [
      "3.14\n",
      "<class 'float'>\n"
     ]
    }
   ],
   "source": [
    "f1 = \"3.14\"\n",
    "print( float(f1) )\n",
    "print( type( float(f1) ) )"
   ]
  },
  {
   "cell_type": "code",
   "execution_count": 17,
   "id": "e13ca7f8",
   "metadata": {},
   "outputs": [],
   "source": [
    "s1 = \"10입니다\"\n",
    "s2 = \"3.14~\"\n",
    "\n",
    "# 에러\n",
    "# int(s1)\n",
    "# float(s2)\n"
   ]
  },
  {
   "cell_type": "code",
   "execution_count": 29,
   "id": "4b37464f",
   "metadata": {},
   "outputs": [
    {
     "name": "stdout",
     "output_type": "stream",
     "text": [
      "3\n"
     ]
    }
   ],
   "source": [
    "# 정수 3으로 형변환\n",
    "s3 = \"3.141592\"\n",
    "\n",
    "s3 = float(s3)\n",
    "s3 = int(s3)\n",
    "\n",
    "print(s3)"
   ]
  }
 ],
 "metadata": {
  "kernelspec": {
   "display_name": "Python 3 (ipykernel)",
   "language": "python",
   "name": "python3"
  },
  "language_info": {
   "codemirror_mode": {
    "name": "ipython",
    "version": 3
   },
   "file_extension": ".py",
   "mimetype": "text/x-python",
   "name": "python",
   "nbconvert_exporter": "python",
   "pygments_lexer": "ipython3",
   "version": "3.9.7"
  }
 },
 "nbformat": 4,
 "nbformat_minor": 5
}
