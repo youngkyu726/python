{
 "cells": [
  {
   "cell_type": "code",
   "execution_count": 8,
   "id": "5c1851c3",
   "metadata": {},
   "outputs": [
    {
     "data": {
      "text/plain": [
       "'0xac00'"
      ]
     },
     "execution_count": 8,
     "metadata": {},
     "output_type": "execute_result"
    }
   ],
   "source": [
    "# 정수형 타입\n",
    "\n",
    "num = 123\n",
    "type(num)\n",
    "\n",
    "num = -123\n",
    "type(num)\n",
    "\n",
    "# 2진수 8진수 16진수 형태로 표현\n",
    "# 0b,   0o,   0x를 붙여서 표현가능\n",
    "\n",
    "a = 0b1011\n",
    "a\n",
    "\n",
    "b = 0o77\n",
    "b\n",
    "\n",
    "c= 0xAC00\n",
    "c\n",
    "\n",
    "bin(a) # 2진수 형태로 출력\n",
    "oct(b) # 8잔수 형태로 출력\n",
    "hex(c) #16진수 형태로 출력"
   ]
  },
  {
   "cell_type": "markdown",
   "id": "19ccb1ad",
   "metadata": {},
   "source": [
    "#### 실수형"
   ]
  },
  {
   "cell_type": "code",
   "execution_count": 13,
   "id": "2ef97bbf",
   "metadata": {},
   "outputs": [
    {
     "data": {
      "text/plain": [
       "0.00314692"
      ]
     },
     "execution_count": 13,
     "metadata": {},
     "output_type": "execute_result"
    }
   ],
   "source": [
    "# float - 10진수 형태로 나타내거나, 지수표현법으로 표현가능\n",
    "a = 3.14\n",
    "type(a)\n",
    "\n",
    "b = 3.141592e5\n",
    "b\n",
    "\n",
    "c = 3.14692e-3\n",
    "c"
   ]
  },
  {
   "cell_type": "markdown",
   "id": "6049519e",
   "metadata": {},
   "source": [
    "#### 논리형 boolean"
   ]
  },
  {
   "cell_type": "code",
   "execution_count": 22,
   "id": "702120ab",
   "metadata": {},
   "outputs": [
    {
     "data": {
      "text/plain": [
       "bool"
      ]
     },
     "execution_count": 22,
     "metadata": {},
     "output_type": "execute_result"
    }
   ],
   "source": [
    "# True 키워드는 대문자로 작성해야 함.\n",
    "b1 = True; #False\n",
    "b1\n",
    "\n",
    "b2 = False\n",
    "b2\n",
    "\n",
    "type(b1)\n",
    "type(b2)"
   ]
  },
  {
   "cell_type": "markdown",
   "id": "69b46eef",
   "metadata": {},
   "source": [
    "#### 연산자"
   ]
  },
  {
   "cell_type": "code",
   "execution_count": null,
   "id": "a5ce0118",
   "metadata": {},
   "outputs": [],
   "source": [
    "# >, <, <=, >=, ==, !=\n",
    "a = 5\n",
    "\n",
    "a < 10\n",
    "a > 5\n",
    "a == 5\n",
    "a != 5\n",
    "'안녕' == '안녕'"
   ]
  },
  {
   "cell_type": "code",
   "execution_count": 33,
   "id": "426a535c",
   "metadata": {},
   "outputs": [
    {
     "data": {
      "text/plain": [
       "True"
      ]
     },
     "execution_count": 33,
     "metadata": {},
     "output_type": "execute_result"
    }
   ],
   "source": [
    "# 사전등재 순서대로 크기가 지정됨\n",
    "'apple' > 'grape'\n",
    "'감자' > '고구마'\n",
    "'banana' > '버네이너'\n",
    "'Banana' < 'banana'"
   ]
  }
 ],
 "metadata": {
  "kernelspec": {
   "display_name": "Python 3 (ipykernel)",
   "language": "python",
   "name": "python3"
  },
  "language_info": {
   "codemirror_mode": {
    "name": "ipython",
    "version": 3
   },
   "file_extension": ".py",
   "mimetype": "text/x-python",
   "name": "python",
   "nbconvert_exporter": "python",
   "pygments_lexer": "ipython3",
   "version": "3.9.7"
  }
 },
 "nbformat": 4,
 "nbformat_minor": 5
}
