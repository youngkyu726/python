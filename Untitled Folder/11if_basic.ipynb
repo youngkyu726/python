{
 "cells": [
  {
   "cell_type": "markdown",
   "id": "89860066",
   "metadata": {},
   "source": [
    "#### if조건:\n",
    "\n",
    "    들여쓰기"
   ]
  },
  {
   "cell_type": "code",
   "execution_count": 5,
   "id": "24f93a27",
   "metadata": {},
   "outputs": [
    {
     "name": "stdout",
     "output_type": "stream",
     "text": [
      "몇살이세요?31\n",
      "성인이시네요?\n",
      "신분증검사좀 하겠습니다\n",
      "무조건 실행되는 문장\n"
     ]
    }
   ],
   "source": [
    "age = int(input('몇살이세요?'))\n",
    "\n",
    "\n",
    "if age > 19 :\n",
    "    print('성인이시네요?')\n",
    "    print('신분증검사좀 하겠습니다')\n",
    "    \n",
    "    \n",
    "print('무조건 실행되는 문장')"
   ]
  },
  {
   "cell_type": "code",
   "execution_count": 3,
   "id": "5543fbd0",
   "metadata": {},
   "outputs": [
    {
     "name": "stdout",
     "output_type": "stream",
     "text": [
      "얼마있으시죠?30000\n",
      "입금하세요^^\n"
     ]
    }
   ],
   "source": [
    "\n",
    "money = int(input('얼마있으시죠?'))\n",
    "\n",
    "if money > 20000 :\n",
    "    print('입금하세요^^')\n",
    "else :\n",
    "    print('치킨 사드세요^^')"
   ]
  },
  {
   "cell_type": "code",
   "execution_count": 7,
   "id": "eb1f1efc",
   "metadata": {},
   "outputs": [
    {
     "name": "stdout",
     "output_type": "stream",
     "text": [
      "국어점수47\n",
      "영어점수56\n",
      "수학점수78\n",
      "60.33\n",
      "통과\n",
      "열공하세요\n"
     ]
    }
   ],
   "source": [
    "'''\n",
    "1. 국어, 영어, 수학점수를 받아서 평균이 60점 이상이면\n",
    "\"시험에 통과했습니다\" 를 출력하세요\n",
    "평균점수를 소수점 2자리까지 출력하세요. hint: round()\n",
    "\n",
    "2. 평균이 60점 미만이라면 \"재수강 대상입니다\" 를 출력하세요\n",
    "\n",
    "3. 통과/재수강 여부에 상관없이 \"열공합시다\" 를 출력하세요\n",
    "\n",
    "'''\n",
    "\n",
    "kor = float(input('국어점수'))\n",
    "eng = float(input('영어점수'))\n",
    "math = float(input('수학점수'))\n",
    "\n",
    "print(round((kor + eng + math)/3, 2))\n",
    "\n",
    "if (kor + eng + math)/3 < 60 :\n",
    "    print('재수강 대상입니다')\n",
    "else :\n",
    "    print('통과')\n",
    "\n",
    "print('열공하세요')"
   ]
  },
  {
   "cell_type": "markdown",
   "id": "ceaf3a42",
   "metadata": {},
   "source": [
    "#### elif"
   ]
  },
  {
   "cell_type": "code",
   "execution_count": 10,
   "id": "87564745",
   "metadata": {},
   "outputs": [
    {
     "name": "stdout",
     "output_type": "stream",
     "text": [
      "나이를 입력하세요40\n",
      "성인\n"
     ]
    }
   ],
   "source": [
    "age = int(input('나이를 입력하세요'))\n",
    "\n",
    "if age >= 20 :\n",
    "    print('성인')\n",
    "    \n",
    "elif age >= 17 :\n",
    "    print('고딩')\n",
    "    \n",
    "elif age >=14 :\n",
    "    print('중딩')\n",
    "    \n",
    "elif age >= 8 :\n",
    "    print('초딩')\n",
    "\n",
    "else :\n",
    "    peint('미취학아동')"
   ]
  },
  {
   "cell_type": "markdown",
   "id": "7ee8e09b",
   "metadata": {},
   "source": [
    "#### 중첩 if"
   ]
  },
  {
   "cell_type": "code",
   "execution_count": 12,
   "id": "b62861f0",
   "metadata": {},
   "outputs": [
    {
     "name": "stdout",
     "output_type": "stream",
     "text": [
      "키>146\n",
      "나이>54\n",
      "놀이기구 탑승 가능\n",
      "--------------------------------------------------\n"
     ]
    }
   ],
   "source": [
    "cm = int(input('키>'))\n",
    "age = int(input('나이>'))\n",
    "\n",
    "if cm >= 140 :\n",
    "    \n",
    "    if age >= 8 :\n",
    "        print('놀이기구 탑승 가능')\n",
    "    else :\n",
    "        print('나이가 8세 미만')\n",
    "        \n",
    "    print('-' * 50)\n",
    "else :\n",
    "    print('키가 140미만')"
   ]
  },
  {
   "cell_type": "code",
   "execution_count": 17,
   "id": "264d2039",
   "metadata": {},
   "outputs": [
    {
     "name": "stdout",
     "output_type": "stream",
     "text": [
      "점수>122\n",
      "점수를 잘못 입력했습니다\n"
     ]
    }
   ],
   "source": [
    "'''\n",
    "1. 점수(point)를 입력받아 90점 이상이면\n",
    "다시 한번 조건을 검사하여 \n",
    "100점을 초과한 경우 \"점수를 잘못 입력했습니다\" 를 출력.\n",
    "95~100일 때는 \"학점은 A+입니다\" \n",
    "위 두 조건을 만족하지 못하면 \"학점은 A입니다\"\n",
    "\n",
    "2. 다중 분기 조건문을 사용하여 \n",
    "80점대는 B학점\n",
    "70점대는 C학점\n",
    "60점대는 F학점으로 처리하세요\n",
    "\n",
    "'''\n",
    "\n",
    "point = int(input('점수>'))\n",
    "\n",
    "if point >= 90 :\n",
    "    if point > 100 :\n",
    "        print('점수를 잘못 입력했습니다')\n",
    "    elif point >= 95 :\n",
    "        print('A+')\n",
    "    else :\n",
    "        print('A')\n",
    "elif point >= 80 :\n",
    "    print('B')\n",
    "elif point >= 70 :\n",
    "    print('C')\n",
    "elif point >= 60 :\n",
    "    print('F')"
   ]
  }
 ],
 "metadata": {
  "kernelspec": {
   "display_name": "Python 3 (ipykernel)",
   "language": "python",
   "name": "python3"
  },
  "language_info": {
   "codemirror_mode": {
    "name": "ipython",
    "version": 3
   },
   "file_extension": ".py",
   "mimetype": "text/x-python",
   "name": "python",
   "nbconvert_exporter": "python",
   "pygments_lexer": "ipython3",
   "version": "3.9.7"
  }
 },
 "nbformat": 4,
 "nbformat_minor": 5
}
