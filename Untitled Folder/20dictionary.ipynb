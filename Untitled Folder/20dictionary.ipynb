{
 "cells": [
  {
   "cell_type": "markdown",
   "id": "de883967",
   "metadata": {},
   "source": [
    "#### 사전 dictionary\n",
    "- {카:값}\n",
    "- dict()"
   ]
  },
  {
   "cell_type": "code",
   "execution_count": 32,
   "id": "af13acaf",
   "metadata": {},
   "outputs": [
    {
     "name": "stdout",
     "output_type": "stream",
     "text": [
      "{}\n"
     ]
    },
    {
     "data": {
      "text/plain": [
       "('길이', 3)"
      ]
     },
     "execution_count": 32,
     "metadata": {},
     "output_type": "execute_result"
    }
   ],
   "source": [
    "stu = dict()\n",
    "print(stu)\n",
    "\n",
    "students = {\"1\" : \"김철수\", \"2\" : \"김영희\", \"3\" : \"홍길동\"}\n",
    "\n",
    "type(students)\n",
    "students\n",
    "\n",
    "'길이', len(students)\n"
   ]
  },
  {
   "cell_type": "code",
   "execution_count": 9,
   "id": "3a61754d",
   "metadata": {},
   "outputs": [
    {
     "name": "stdout",
     "output_type": "stream",
     "text": [
      "True\n",
      "False\n",
      "True\n"
     ]
    }
   ],
   "source": [
    "# 딕셔너리를 사용하는 방법\n",
    "# 사전이름[키]\n",
    "students[\"1\"]\n",
    "\n",
    "# students[\"sdfsdf\"] #키가 없다면 에러\n",
    "\n",
    "# in 키워드를 이용해서 key의 존재여부를 확인할 수 있습니다\n",
    "\n",
    "print( \"1\" in students ) #T\n",
    "print(\"dfgdfg\" in students ) #F\n",
    "print(\"sdfsdf\" not in students )#T"
   ]
  },
  {
   "cell_type": "markdown",
   "id": "91ee23ed",
   "metadata": {},
   "source": [
    "#### 데이터 관리 (추가, 변경, 삭제)"
   ]
  },
  {
   "cell_type": "code",
   "execution_count": 12,
   "id": "b7aebf50",
   "metadata": {},
   "outputs": [
    {
     "data": {
      "text/plain": [
       "{'apple': '사과', 'peach': '복숭아'}"
      ]
     },
     "execution_count": 12,
     "metadata": {},
     "output_type": "execute_result"
    }
   ],
   "source": [
    "eng = {\"apple\" : \"사과\", \"peach\" : \"복숭아\"}\n",
    "eng"
   ]
  },
  {
   "cell_type": "code",
   "execution_count": 15,
   "id": "1b0d3642",
   "metadata": {},
   "outputs": [
    {
     "data": {
      "text/plain": [
       "{'apple': '사과', 'peach': '복숭아', 'melon': '멜론', 'book': '서적'}"
      ]
     },
     "execution_count": 15,
     "metadata": {},
     "output_type": "execute_result"
    }
   ],
   "source": [
    "# 값의 추가\n",
    "eng[\"melon\"] = \"멜론\"\n",
    "eng[\"book\"] = \"서적\"\n",
    "eng"
   ]
  },
  {
   "cell_type": "code",
   "execution_count": 24,
   "id": "91b4ec7f",
   "metadata": {},
   "outputs": [
    {
     "data": {
      "text/plain": [
       "{'apple': '사과', 'peach': '복숭아', 'melon': '멜론', 'book': '책'}"
      ]
     },
     "execution_count": 24,
     "metadata": {},
     "output_type": "execute_result"
    }
   ],
   "source": [
    "# 값의 변경\n",
    "# 사전에 이미 존재하는 key를 사용하여 변경할 수 있다\n",
    "eng[\"book\"] = \"책\"\n",
    "eng"
   ]
  },
  {
   "cell_type": "code",
   "execution_count": 25,
   "id": "6c33ae16",
   "metadata": {},
   "outputs": [],
   "source": [
    "# 값의 삭제 del(키)\n",
    "del eng[\"book\"] # del(eng[\"book\"])"
   ]
  },
  {
   "cell_type": "code",
   "execution_count": 26,
   "id": "2f6bb247",
   "metadata": {},
   "outputs": [
    {
     "data": {
      "text/plain": [
       "{'apple': '사과', 'peach': '복숭아', 'melon': '멜론'}"
      ]
     },
     "execution_count": 26,
     "metadata": {},
     "output_type": "execute_result"
    }
   ],
   "source": [
    "eng"
   ]
  },
  {
   "cell_type": "markdown",
   "id": "1c2bd3d4",
   "metadata": {},
   "source": [
    "#### 딕셔너리 함수 keys, vlaues, 반복문"
   ]
  },
  {
   "cell_type": "code",
   "execution_count": 28,
   "id": "3a72ada6",
   "metadata": {},
   "outputs": [
    {
     "name": "stdout",
     "output_type": "stream",
     "text": [
      "apple\n",
      "사과\n",
      "peach\n",
      "복숭아\n",
      "melon\n",
      "멜론\n"
     ]
    }
   ],
   "source": [
    "for i in eng :\n",
    "    print(i) # 키를 뽑는다\n",
    "    print(eng[i]) # 값을 얻는다"
   ]
  },
  {
   "cell_type": "code",
   "execution_count": 33,
   "id": "adc6403f",
   "metadata": {},
   "outputs": [
    {
     "name": "stdout",
     "output_type": "stream",
     "text": [
      "dict_keys(['apple', 'peach', 'melon'])\n",
      "apple\n",
      "peach\n",
      "melon\n",
      "dict_values(['사과', '복숭아', '멜론'])\n",
      "사과\n",
      "복숭아\n",
      "멜론\n"
     ]
    }
   ],
   "source": [
    "print( eng.keys() ) # 키를 뽑는다\n",
    "for i in eng.keys() :\n",
    "    print(i)\n",
    "    \n",
    "print( eng.values() )\n",
    "for i in eng.values() :\n",
    "    print(i)"
   ]
  },
  {
   "cell_type": "markdown",
   "id": "3f557c33",
   "metadata": {},
   "source": [
    "#### 실습\n",
    "'''\n",
    "dictionary를 이용한 사전 만들기\n",
    "\n",
    "1. eng_kor 이라는 이름으로 빈 사전을 하나 생성합니다.\n",
    "\n",
    "2. 사용자가 '그만'을 입력할 때 까지 영단어를 입력받습니다.\n",
    "\n",
    "3. 총 2번을 입력받는데, 영단어를 key로, 한글 뜻은 value값으로 지정해서 사전에 등록.\n",
    "\n",
    "4. '그만'을 입력하여 단어장 만들기를 종료하면 그동안 받았던 사전의 내부 데이터를 반복문으로 전부 출력.\n",
    "'''"
   ]
  },
  {
   "cell_type": "code",
   "execution_count": 7,
   "id": "f62d05bd",
   "metadata": {},
   "outputs": [
    {
     "name": "stdout",
     "output_type": "stream",
     "text": [
      "영단어>dog\n",
      "뜻>개\n",
      "영단어를 추가했습니다\n",
      "영단어>puppy\n",
      "뜻>강아지\n",
      "영단어를 추가했습니다\n",
      "영단어>그만\n",
      "dog = 개\n",
      "puppy = 강아지\n"
     ]
    }
   ],
   "source": [
    "eng_kor = dict()\n",
    "\n",
    "while True :\n",
    "    key = input('영단어>')\n",
    "    \n",
    "    if key == '그만' :\n",
    "        break\n",
    "    elif key in eng_kor :\n",
    "        print('영단어가 이미 존재합니다')\n",
    "        continue\n",
    "    else :\n",
    "        val = input('뜻>')\n",
    "        eng_kor[key] = val\n",
    "        print('영단어를 추가했습니다')\n",
    "        \n",
    "for i in eng_kor :\n",
    "    print( f'{i} = {eng_kor[i]}')"
   ]
  }
 ],
 "metadata": {
  "kernelspec": {
   "display_name": "Python 3 (ipykernel)",
   "language": "python",
   "name": "python3"
  },
  "language_info": {
   "codemirror_mode": {
    "name": "ipython",
    "version": 3
   },
   "file_extension": ".py",
   "mimetype": "text/x-python",
   "name": "python",
   "nbconvert_exporter": "python",
   "pygments_lexer": "ipython3",
   "version": "3.9.7"
  }
 },
 "nbformat": 4,
 "nbformat_minor": 5
}
