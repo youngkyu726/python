{
 "cells": [
  {
   "cell_type": "markdown",
   "id": "14a47a8c",
   "metadata": {},
   "source": [
    "#### 문자열의 덧셈, 곱세"
   ]
  },
  {
   "cell_type": "code",
   "execution_count": 6,
   "id": "91015b13",
   "metadata": {},
   "outputs": [
    {
     "name": "stdout",
     "output_type": "stream",
     "text": [
      "오늘 저녁은치킨 입니다!\n",
      "우와~ 맛있겠다~~\n",
      "오늘 저녁은오늘 저녁은오늘 저녁은오늘 저녁은오늘 저녁은오늘 저녁은오늘 저녁은오늘 저녁은오늘 저녁은오늘 저녁은\n",
      "--------------------------------------------------\n"
     ]
    }
   ],
   "source": [
    "s1 = '오늘 저녁은'\n",
    "s2 = '치킨 입니다!'\n",
    "\n",
    "print(s1 + s2 + '\\n우와~ 맛있겠다~~')\n",
    "\n",
    "print(s1 * 10) # 문자열 곱셈\n",
    "\n",
    "print('-' * 50)"
   ]
  },
  {
   "cell_type": "code",
   "execution_count": 7,
   "id": "ec723ba0",
   "metadata": {},
   "outputs": [
    {
     "ename": "TypeError",
     "evalue": "can only concatenate str (not \"int\") to str",
     "output_type": "error",
     "traceback": [
      "\u001b[1;31m---------------------------------------------------------------------------\u001b[0m",
      "\u001b[1;31mTypeError\u001b[0m                                 Traceback (most recent call last)",
      "\u001b[1;32m~\\AppData\\Local\\Temp/ipykernel_1892/3239710505.py\u001b[0m in \u001b[0;36m<module>\u001b[1;34m\u001b[0m\n\u001b[1;32m----> 1\u001b[1;33m \u001b[0mprint\u001b[0m \u001b[1;33m(\u001b[0m\u001b[0ms1\u001b[0m \u001b[1;33m+\u001b[0m \u001b[1;36m3\u001b[0m\u001b[1;33m)\u001b[0m\u001b[1;33m\u001b[0m\u001b[1;33m\u001b[0m\u001b[0m\n\u001b[0m",
      "\u001b[1;31mTypeError\u001b[0m: can only concatenate str (not \"int\") to str"
     ]
    }
   ],
   "source": [
    "# 숫자 문자를 더 하는 것은 허용되지 않음.\n",
    "# print (s1 + 3)\n",
    "# 실수 문자를 곱하는 것도 허용되지 않음.\n",
    "# print (s1 * 3.14)"
   ]
  }
 ],
 "metadata": {
  "kernelspec": {
   "display_name": "Python 3 (ipykernel)",
   "language": "python",
   "name": "python3"
  },
  "language_info": {
   "codemirror_mode": {
    "name": "ipython",
    "version": 3
   },
   "file_extension": ".py",
   "mimetype": "text/x-python",
   "name": "python",
   "nbconvert_exporter": "python",
   "pygments_lexer": "ipython3",
   "version": "3.9.7"
  }
 },
 "nbformat": 4,
 "nbformat_minor": 5
}
