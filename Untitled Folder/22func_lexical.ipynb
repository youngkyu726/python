{
 "cells": [
  {
   "cell_type": "markdown",
   "id": "bafa53ee",
   "metadata": {},
   "source": [
    "#### 전역변수 vs 지역변수\n",
    "- lexical특성 : 함수가 전역변수와 동일한 지역변수를 가질때, 함수안에서 전역변수를 참조하지 못하는 특징\n",
    "\n",
    "## 그냥 되도록 같은 변수명을 쓰지말자!!!"
   ]
  },
  {
   "cell_type": "code",
   "execution_count": 17,
   "id": "b950c20d",
   "metadata": {},
   "outputs": [],
   "source": [
    "a = \"홍길동\"\n",
    "\n",
    "def func1() :\n",
    "    print(a)\n",
    "\n",
    "def func2() :\n",
    "    print(a)\n",
    "    \n",
    "#지역변수\n",
    "def func3() :\n",
    "    b =10 # 지역변수\n",
    "    print(b)\n",
    "    \n",
    "# lexical 특성\n",
    "c = 10\n",
    "def func4() :\n",
    "    c = 100\n",
    "    print(c) # 100\n",
    "    \n",
    "d = 10\n",
    "def func5() :\n",
    "    global d # 전역변수 사용에 대한 힌트\n",
    "    print(d) # 전역변수 d\n",
    "    d = 100\n",
    "    print(d) # 지역변수 d"
   ]
  },
  {
   "cell_type": "code",
   "execution_count": 18,
   "id": "f6bd1e39",
   "metadata": {},
   "outputs": [
    {
     "name": "stdout",
     "output_type": "stream",
     "text": [
      "10\n",
      "100\n"
     ]
    }
   ],
   "source": [
    "# func1()\n",
    "# func2()\n",
    "# func3()\n",
    "# b 지역변수 사용불가\n",
    "\n",
    "# func4()\n",
    "func5()"
   ]
  },
  {
   "cell_type": "markdown",
   "id": "9dcf5f90",
   "metadata": {},
   "source": [
    "#### 함수를 변수에 저장하기"
   ]
  },
  {
   "cell_type": "code",
   "execution_count": 22,
   "id": "53650a78",
   "metadata": {},
   "outputs": [],
   "source": [
    "def func6() :\n",
    "    sum = 0\n",
    "    for i in range(1, 11) :\n",
    "        sum += i\n",
    "        \n",
    "    print('1~10합', sum)"
   ]
  },
  {
   "cell_type": "code",
   "execution_count": 32,
   "id": "22fc3334",
   "metadata": {},
   "outputs": [
    {
     "name": "stdout",
     "output_type": "stream",
     "text": [
      "1~10합 55\n",
      "1~10합 55\n"
     ]
    }
   ],
   "source": [
    "a = func6\n",
    "type(a) # function\n",
    "\n",
    "a() # 함수를 호출\n",
    "func6() # 함수를 호출"
   ]
  }
 ],
 "metadata": {
  "kernelspec": {
   "display_name": "Python 3 (ipykernel)",
   "language": "python",
   "name": "python3"
  },
  "language_info": {
   "codemirror_mode": {
    "name": "ipython",
    "version": 3
   },
   "file_extension": ".py",
   "mimetype": "text/x-python",
   "name": "python",
   "nbconvert_exporter": "python",
   "pygments_lexer": "ipython3",
   "version": "3.9.7"
  }
 },
 "nbformat": 4,
 "nbformat_minor": 5
}
