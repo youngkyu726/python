{
 "cells": [
  {
   "cell_type": "markdown",
   "id": "05e9a907",
   "metadata": {},
   "source": [
    "#### default 매개변수 (가변인수)\n",
    "- 파이썬에서는 매개변수(인수) 의 기본값을 설정해서 자주쓰지 않는 매개값을 기본값으로 선언합니다"
   ]
  },
  {
   "cell_type": "code",
   "execution_count": 6,
   "id": "c3a52400",
   "metadata": {},
   "outputs": [],
   "source": [
    "def calc(begin, end, step=1) :\n",
    "    sum = 0\n",
    "    for i in range(begin, end+1, step) :\n",
    "        sum += i\n",
    "        \n",
    "    return sum"
   ]
  },
  {
   "cell_type": "code",
   "execution_count": 10,
   "id": "cde16dbe",
   "metadata": {},
   "outputs": [
    {
     "data": {
      "text/plain": [
       "55"
      ]
     },
     "execution_count": 10,
     "metadata": {},
     "output_type": "execute_result"
    }
   ],
   "source": [
    "# 기본값을 가지고 있더라도 매개변수의 개수를 맞추어 호출할 수 있습니다\n",
    "calc(1, 10, 2)\n",
    "# 매개변수를 2개만 전달하더라도 step=1로 설정됨\n",
    "calc(1, 10)"
   ]
  },
  {
   "cell_type": "markdown",
   "id": "b90c56ce",
   "metadata": {},
   "source": [
    "#### 기본매개변수가 앞으로, default매개변수가 뒤로"
   ]
  },
  {
   "cell_type": "code",
   "execution_count": 12,
   "id": "6c5f9639",
   "metadata": {},
   "outputs": [],
   "source": [
    "def calc2(end, begin=0, step=1) :\n",
    "    sum = 0\n",
    "    for i in range(begin, end+1, step) :\n",
    "        sum += i\n",
    "        \n",
    "    return sum"
   ]
  },
  {
   "cell_type": "code",
   "execution_count": 13,
   "id": "7cb0c0a6",
   "metadata": {},
   "outputs": [
    {
     "data": {
      "text/plain": [
       "55"
      ]
     },
     "execution_count": 13,
     "metadata": {},
     "output_type": "execute_result"
    }
   ],
   "source": [
    "calc2(10)"
   ]
  },
  {
   "cell_type": "code",
   "execution_count": 14,
   "id": "ab159cdc",
   "metadata": {},
   "outputs": [
    {
     "data": {
      "text/plain": [
       "55"
      ]
     },
     "execution_count": 14,
     "metadata": {},
     "output_type": "execute_result"
    }
   ],
   "source": [
    "calc2(10, 1)"
   ]
  },
  {
   "cell_type": "code",
   "execution_count": 15,
   "id": "6dc6726b",
   "metadata": {},
   "outputs": [
    {
     "data": {
      "text/plain": [
       "55"
      ]
     },
     "execution_count": 15,
     "metadata": {},
     "output_type": "execute_result"
    }
   ],
   "source": [
    "calc2(10, 1, 1)"
   ]
  },
  {
   "cell_type": "markdown",
   "id": "8cf6e439",
   "metadata": {},
   "source": [
    "#### 키워드변수\n",
    "- 인수의 개수가 많아지면, 파악이 어렵기 때문에, 순서와 무관하게 인수를 전달하는 방법을 제공한다\n",
    "\n",
    ">print('출력문', sep=',', end='\\n')"
   ]
  },
  {
   "cell_type": "code",
   "execution_count": 17,
   "id": "f7594500",
   "metadata": {},
   "outputs": [],
   "source": [
    "def calc3(begin, end, step) :\n",
    "    sum = 0\n",
    "    for i in range(begin, end+1, step) :\n",
    "        sum += i\n",
    "        \n",
    "    return sum"
   ]
  },
  {
   "cell_type": "code",
   "execution_count": 28,
   "id": "ab460bea",
   "metadata": {},
   "outputs": [
    {
     "name": "stdout",
     "output_type": "stream",
     "text": [
      "출력문~~=>출력문~~\n"
     ]
    }
   ],
   "source": [
    "calc3(1, 10, 1)\n",
    "calc3(begin=1, end=10, step=1) ## 55\n",
    "calc3(end=10, step=1, begin=1) ## 55\n",
    "\n",
    "# 키워드와 위치인수를 혼용으로 사용할 수 있습니다\n",
    "calc3(1, step=1, end=10) ##55\n",
    "\n",
    "# 위치인수가 항상 키워드인수보다 앞에 위치해야함\n",
    "# calc3(begin=1, 10, step=1)\n",
    "\n",
    "print('출력문~~', '출력문~~', sep='=>', end='\\n')"
   ]
  }
 ],
 "metadata": {
  "kernelspec": {
   "display_name": "Python 3 (ipykernel)",
   "language": "python",
   "name": "python3"
  },
  "language_info": {
   "codemirror_mode": {
    "name": "ipython",
    "version": 3
   },
   "file_extension": ".py",
   "mimetype": "text/x-python",
   "name": "python",
   "nbconvert_exporter": "python",
   "pygments_lexer": "ipython3",
   "version": "3.9.7"
  }
 },
 "nbformat": 4,
 "nbformat_minor": 5
}
