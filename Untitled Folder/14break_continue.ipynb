{
 "cells": [
  {
   "cell_type": "markdown",
   "id": "bf7e78c5",
   "metadata": {},
   "source": [
    "#### break, continue"
   ]
  },
  {
   "cell_type": "code",
   "execution_count": 2,
   "id": "f73d5175",
   "metadata": {},
   "outputs": [
    {
     "name": "stdout",
     "output_type": "stream",
     "text": [
      "1\n",
      "2\n",
      "3\n",
      "4\n",
      "5\n"
     ]
    }
   ],
   "source": [
    "for i in range(1, 11) :\n",
    "    print(i)\n",
    "    if i == 5 :\n",
    "        break"
   ]
  },
  {
   "cell_type": "code",
   "execution_count": 4,
   "id": "a40e9787",
   "metadata": {},
   "outputs": [
    {
     "name": "stdout",
     "output_type": "stream",
     "text": [
      "먹고싶은거>없어,,\n",
      "없어,,\n",
      "먹고싶은거>그만\n"
     ]
    }
   ],
   "source": [
    "# 무한루프\n",
    "while True :\n",
    "    name = input('먹고싶은거>')\n",
    "    \n",
    "    if name == '그만' : # 탈출\n",
    "        break\n",
    "    \n",
    "    print(name)"
   ]
  },
  {
   "cell_type": "markdown",
   "id": "49d380b6",
   "metadata": {},
   "source": [
    "#### continue"
   ]
  },
  {
   "cell_type": "code",
   "execution_count": 5,
   "id": "b1a62c5c",
   "metadata": {},
   "outputs": [
    {
     "name": "stdout",
     "output_type": "stream",
     "text": [
      "1\n",
      "3\n",
      "5\n",
      "7\n",
      "9\n"
     ]
    }
   ],
   "source": [
    "for i in range(1, 11) :\n",
    "    \n",
    "    if i % 2 == 0 :\n",
    "        continue\n",
    "        \n",
    "    print(i)"
   ]
  },
  {
   "cell_type": "markdown",
   "id": "53f9e23a",
   "metadata": {},
   "source": [
    "#### 실습\n",
    "'''\n",
    "1. 사용자에게 38 x 12 = ? 문제를 내고 답을 입력받습니다.  \n",
    "\n",
    "2. 정답을 맞춘 경우 \"정답입니다\",  \n",
    "    \"x번에 만에 맞추셨네요\"\n",
    "    를 출력하고 반복문을 종료합니다  \n",
    "\n",
    "3. 오답일 경우 \"틀렸습니다!\" 를 출력하고,\n",
    "    다시 정답을 입력받을 수 있도록 반복문을 구성하세요\n",
    "\n",
    "hint:횟수를 누적하는 count변수를 사용!\n",
    "'''"
   ]
  },
  {
   "cell_type": "code",
   "execution_count": 11,
   "id": "376f0719",
   "metadata": {},
   "outputs": [
    {
     "name": "stdout",
     "output_type": "stream",
     "text": [
      "38 x 12 = ?\n",
      ">1\n",
      "틀렸습니다\n",
      ">2\n",
      "틀렸습니다\n",
      ">3\n",
      "틀렸습니다\n",
      ">4\n",
      "틀렸습니다\n",
      ">5\n",
      "틀렸습니다\n",
      ">456\n",
      "6 번만에 맞추셨네요\n"
     ]
    }
   ],
   "source": [
    "print('38 x 12 = ?')\n",
    "\n",
    "count = 0\n",
    "while True :\n",
    "    ans = int(input('>'))\n",
    "    \n",
    "    if ans == 38*12 :\n",
    "        count += 1\n",
    "        print(count,'번만에 맞추셨네요')\n",
    "        break\n",
    "        \n",
    "    elif ans != 38*12 :\n",
    "        count += 1\n",
    "        print('틀렸습니다')\n",
    "\n"
   ]
  },
  {
   "cell_type": "code",
   "execution_count": null,
   "id": "851c6859",
   "metadata": {},
   "outputs": [],
   "source": []
  }
 ],
 "metadata": {
  "kernelspec": {
   "display_name": "Python 3 (ipykernel)",
   "language": "python",
   "name": "python3"
  },
  "language_info": {
   "codemirror_mode": {
    "name": "ipython",
    "version": 3
   },
   "file_extension": ".py",
   "mimetype": "text/x-python",
   "name": "python",
   "nbconvert_exporter": "python",
   "pygments_lexer": "ipython3",
   "version": "3.9.7"
  }
 },
 "nbformat": 4,
 "nbformat_minor": 5
}
