{
 "cells": [
  {
   "cell_type": "markdown",
   "id": "6089d09d",
   "metadata": {},
   "source": [
    "#### 파이썬의 문자열 다루기 함수들\n",
    "\n",
    "1. len\n",
    "2. replace\n",
    "3. split\n",
    "4. find\n",
    "5. count\n",
    "\n",
    "> shift + tab으로 함수의 정보를 확인할 수 있다"
   ]
  },
  {
   "cell_type": "code",
   "execution_count": 4,
   "id": "cdadc75e",
   "metadata": {},
   "outputs": [
    {
     "name": "stdout",
     "output_type": "stream",
     "text": [
      "문자열의 길이 : 6\n"
     ]
    }
   ],
   "source": [
    "s = 'python'\n",
    "\n",
    "print('문자열의 길이 :' , len(s))"
   ]
  },
  {
   "cell_type": "code",
   "execution_count": 7,
   "id": "28366b64",
   "metadata": {},
   "outputs": [
    {
     "data": {
      "text/plain": [
       "4"
      ]
     },
     "execution_count": 7,
     "metadata": {},
     "output_type": "execute_result"
    }
   ],
   "source": [
    "len( range(1, 1001) ) #길이 1000\n",
    "len( [1,2,3,4] ) #길이 4"
   ]
  },
  {
   "cell_type": "code",
   "execution_count": 16,
   "id": "0d739f47",
   "metadata": {},
   "outputs": [
    {
     "data": {
      "text/plain": [
       "'파이썬 programing'"
      ]
     },
     "execution_count": 16,
     "metadata": {},
     "output_type": "execute_result"
    }
   ],
   "source": [
    "s = 'python programing'\n",
    "\n",
    "s = s.replace('python', '파이썬')\n",
    "s"
   ]
  },
  {
   "cell_type": "code",
   "execution_count": 17,
   "id": "30b9e5ac",
   "metadata": {},
   "outputs": [
    {
     "data": {
      "text/plain": [
       "['010', '1234', '5678']"
      ]
     },
     "execution_count": 17,
     "metadata": {},
     "output_type": "execute_result"
    }
   ],
   "source": [
    "s = '010-1234-5678'\n",
    "list_ = s.split('-')\n",
    "list_"
   ]
  },
  {
   "cell_type": "code",
   "execution_count": 26,
   "id": "2f747115",
   "metadata": {},
   "outputs": [
    {
     "name": "stdout",
     "output_type": "stream",
     "text": [
      "생각이 처음 발견된 위치 : 1\n",
      "생각이 발견된 횟수 : 7\n"
     ]
    }
   ],
   "source": [
    "s = '''\n",
    "생각이라는 생각은 생각할수록 자꾸 생각이 나기 때문에\n",
    "생각이라는 것은 아예 생각하지 않는 것이\n",
    "좋다고 생각합니다\n",
    "'''\n",
    "print('생각이 처음 발견된 위치 :', s.find('생각'))\n",
    "print('생각이 발견된 횟수 :' , s.count('생각'))"
   ]
  }
 ],
 "metadata": {
  "kernelspec": {
   "display_name": "Python 3 (ipykernel)",
   "language": "python",
   "name": "python3"
  },
  "language_info": {
   "codemirror_mode": {
    "name": "ipython",
    "version": 3
   },
   "file_extension": ".py",
   "mimetype": "text/x-python",
   "name": "python",
   "nbconvert_exporter": "python",
   "pygments_lexer": "ipython3",
   "version": "3.9.7"
  }
 },
 "nbformat": 4,
 "nbformat_minor": 5
}
