{
 "cells": [
  {
   "cell_type": "markdown",
   "id": "e7b6d4d4",
   "metadata": {},
   "source": [
    "#### 표준출력 함수 print()"
   ]
  },
  {
   "cell_type": "code",
   "execution_count": 7,
   "id": "38c1d727",
   "metadata": {},
   "outputs": [
    {
     "name": "stdout",
     "output_type": "stream",
     "text": [
      "1234\n",
      "홍길동\n",
      "홍길동 님의 나이는 1234 입니다\n"
     ]
    }
   ],
   "source": [
    "value = 1234\n",
    "name = '홍길동'\n",
    "\n",
    "print(value)\n",
    "print(name)\n",
    "# print(value+name) # 에러\n",
    "\n",
    "# 출력할 데이터가 여러개라면 , 로 연결합니다.\n",
    "print(name, '님의 나이는', value, '입니다')"
   ]
  },
  {
   "cell_type": "code",
   "execution_count": 22,
   "id": "1efce47e",
   "metadata": {},
   "outputs": [
    {
     "name": "stdout",
     "output_type": "stream",
     "text": [
      "강아지 고양이 돼지\n",
      "강아지 고양이 돼지\n",
      "강아지,고양이,돼지\n",
      "강아지 => 고양이 => 돼지\n",
      "강아지고양이돼지\n"
     ]
    }
   ],
   "source": [
    "dog = '강아지'\n",
    "cat = '고양이'\n",
    "pig = '돼지'\n",
    "\n",
    "# 여러변수를 출력시 sep속성으로 구분자를 지정할 수 있습니다\n",
    "print(dog, cat, pig)\n",
    "print(dog, cat, pig, sep=' ') # default값으로 공백\n",
    "print(dog, cat, pig, sep=',')\n",
    "print(dog, cat, pig, sep=' => ')\n",
    "print(dog, cat, pig, sep='')\n"
   ]
  },
  {
   "cell_type": "code",
   "execution_count": 38,
   "id": "36b54489",
   "metadata": {},
   "outputs": [
    {
     "name": "stdout",
     "output_type": "stream",
     "text": [
      "강아지 고양이 돼지\n",
      "강아지 고양이 돼지\n",
      "결과\n",
      "오늘 오전에 안나온 사람 오후에 나올꺼죠?^^?다음 출력구문은?\n"
     ]
    }
   ],
   "source": [
    "# end속성은 출력 이후 맨 마지막에 포함할 문자를 지정하는 용도 입니다\n",
    "print(dog, cat, pig)\n",
    "print(dog, cat, pig, end='\\n') # default\n",
    "print('결과')\n",
    "\n",
    "print('오늘', '오전에', '안나온 사람', '오후에 나올꺼죠?', end='^^?')\n",
    "print('다음 출력구문은?')"
   ]
  },
  {
   "cell_type": "code",
   "execution_count": 41,
   "id": "b05bc176",
   "metadata": {},
   "outputs": [
    {
     "name": "stdout",
     "output_type": "stream",
     "text": [
      "안녕?......집에 가고 싶다. 저 먼저 퇴근할게요"
     ]
    }
   ],
   "source": [
    "print('안녕?', '집에 가고 싶다.', end=' 저 먼저 퇴근할게요', sep='......')"
   ]
  },
  {
   "cell_type": "code",
   "execution_count": 42,
   "id": "cfca4392",
   "metadata": {},
   "outputs": [
    {
     "ename": "SyntaxError",
     "evalue": "positional argument follows keyword argument (Temp/ipykernel_11524/1552162095.py, line 2)",
     "output_type": "error",
     "traceback": [
      "\u001b[1;36m  File \u001b[1;32m\"C:\\Users\\고우니\\AppData\\Local\\Temp/ipykernel_11524/1552162095.py\"\u001b[1;36m, line \u001b[1;32m2\u001b[0m\n\u001b[1;33m    print( end= '안녕?', '집에 가고 싶다.',sep='......' ' 저 먼저 퇴근할게요')\u001b[0m\n\u001b[1;37m                                                             ^\u001b[0m\n\u001b[1;31mSyntaxError\u001b[0m\u001b[1;31m:\u001b[0m positional argument follows keyword argument\n"
     ]
    }
   ],
   "source": [
    "# end, sep 속성은 반드시 print 문장 마지막에 작성 해야 함.\n",
    "# print( end= '안녕?', '집에 가고 싶다.',sep='......' ' 저 먼저 퇴근할게요')"
   ]
  }
 ],
 "metadata": {
  "kernelspec": {
   "display_name": "Python 3 (ipykernel)",
   "language": "python",
   "name": "python3"
  },
  "language_info": {
   "codemirror_mode": {
    "name": "ipython",
    "version": 3
   },
   "file_extension": ".py",
   "mimetype": "text/x-python",
   "name": "python",
   "nbconvert_exporter": "python",
   "pygments_lexer": "ipython3",
   "version": "3.9.7"
  }
 },
 "nbformat": 4,
 "nbformat_minor": 5
}
